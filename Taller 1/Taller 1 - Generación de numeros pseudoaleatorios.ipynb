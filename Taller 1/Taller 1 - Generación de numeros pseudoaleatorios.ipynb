{
 "cells": [
  {
   "cell_type": "markdown",
   "metadata": {},
   "source": [
    "# Generación de Números Pseudoaleatorios"
   ]
  },
  {
   "cell_type": "markdown",
   "metadata": {},
   "source": [
    "Jhonathan Mejia-160003525\n",
    "### Taller 1:\n",
    "1. Implementar el generador de números pseudoaleatorios con el método de MidSquare\n",
    "2. Implementar el generador congruencial mixto\n",
    "3. Implementar una función para calcular el ciclo de cualquier generador de números pseudoaleatorios.\n"
   ]
  },
  {
   "cell_type": "markdown",
   "metadata": {},
   "source": [
    "# Método de cuadrados medios (_MidSquare_)\n",
    "### Pseudocódigo:\n",
    "\n",
    "1. El método comienza tomando un número al azar, $x_0$, de $2n$ cifras (originalmente los autores proponían 4 cifras) que al elevarlo al cuadrado resulta un número de hasta $4n$ cifras. \n",
    "\n",
    "2. Si es necesario se añaden ceros a la izquierda para que el número resultante tenga exactamente $4n$ cifras. \n",
    "\n",
    "3. Sea $x1$ el número resultante de seleccionar las 2n cifras centrales de $x_0^2$\n",
    "\n",
    "4. El primer número aleatorio $u1$ se obtiene poniendo un punto decimal delante las $2n$ cifras de $x1$.\n",
    "\n",
    "5. A continuación $x2$  y $u2$ se generan a partir de $x1$  del mismo modo.\n",
    "\n",
    "6. Así sucesivamente..."
   ]
  },
  {
   "cell_type": "code",
   "execution_count": 23,
   "metadata": {},
   "outputs": [],
   "source": [
    "def zeros_izquierda(valor, tam):\n",
    "    val = int(valor) \n",
    "    val_str = str(val)\n",
    "    \n",
    "    if(len(val_str) > tam):\n",
    "        raise Exception(\"La cantidad de digitos es mayor a la necesaria.\")\n",
    "    elif(len(val_str) == tam):\n",
    "        return val_str\n",
    "    else:\n",
    "        zeros = tam - len(val_str)\n",
    "        zeros_string = \"\"\n",
    "        \n",
    "        for x in range(zeros):\n",
    "            zeros_string += \"0\"\n",
    "            \n",
    "        return zeros_string + val_str\n",
    "\n",
    "def tam_numero(valor):\n",
    "    val = int(valor)\n",
    "    return len(str(val))    \n",
    "    \n",
    "def mitad(valor, tam):\n",
    "    m = int(tam / 2)\n",
    "    return valor[m: - m]\n",
    "\n",
    "\n",
    "def transformar_a_decimal(valor):\n",
    "    nuevo_valor = \"0.\" + valor\n",
    "    return float(nuevo_valor)\n",
    "\n"
   ]
  },
  {
   "cell_type": "code",
   "execution_count": 25,
   "metadata": {},
   "outputs": [
    {
     "name": "stdout",
     "output_type": "stream",
     "text": [
      "Digite el valor de n: 2\n",
      "Digite el valor de X_0: 1216\n",
      "¿Cuántos valores quiere generar? 5\n",
      "u_1 = 0.4786\n",
      "u_2 = 0.9057\n",
      "u_3 = 0.0292\n",
      "u_4 = 0.0852\n",
      "u_5 = 0.7259\n"
     ]
    }
   ],
   "source": [
    "n = int(input(\"Digite el valor de n: \"))\n",
    "x0 = int(input(\"Digite el valor de X_0: \"))\n",
    "limit = int(input(\"¿Cuántos valores quiere generar? \"))\n",
    "\n",
    "listas = []\n",
    "if(tam_numero(x0) == 2 * n):\n",
    "    xn = x0\n",
    "    for i in range(limit):\n",
    "        xn = int(xn)\n",
    "        xn_2 = xn ** 2\n",
    "        xn_2_str = str(xn_2)\n",
    "\n",
    "        if(tam_numero(xn_2) != 4 * n):\n",
    "            xn_2_str = zeros_izquierda(xn_2, 4 * n)\n",
    "\n",
    "        xn = mitad(xn_2_str, 2 * n)\n",
    "        listas.append(transformar_a_decimal(xn))\n",
    "        \n",
    "        message = \"u_{0} = {1}\".format(i + 1, listas[i])\n",
    "        print(message)\n",
    "else:\n",
    "    print(\"La cantidad de cifras de X_0 no es igual a 2*n\")"
   ]
  },
  {
   "cell_type": "markdown",
   "metadata": {},
   "source": [
    "## Congruencial Mixto\n",
    "### Pseudocódigo:\n",
    "1. Escoger una semilla $X_0$.\n",
    "2. Escoger dos enteros positivos $a$ y $m$\n",
    "3. Obtener $X_n$ a partir de la formula $X_n = (a * X_{n-1} + c) \\% m$\n",
    "4. Obtener $U_i$ a partir de la formula $U_i = \\frac{x_i}{m}$\n",
    "5. Repita"
   ]
  },
  {
   "cell_type": "code",
   "execution_count": 8,
   "metadata": {},
   "outputs": [
    {
     "name": "stdout",
     "output_type": "stream",
     "text": [
      "Ingrese el valor de la semilla: 7\n",
      "Ingrese el valor de a: 5\n",
      "Ingrese el valor de m: 16\n",
      "Ingrese el valor de c: 3\n",
      "Ingrese la cantidad de numeros a generar: 19\n",
      "u_1 = 0.375\n",
      "u_2 = 0.0625\n",
      "u_3 = 0.5\n",
      "u_4 = 0.6875\n",
      "u_5 = 0.625\n",
      "u_6 = 0.3125\n",
      "u_7 = 0.75\n",
      "u_8 = 0.9375\n",
      "u_9 = 0.875\n",
      "u_10 = 0.5625\n",
      "u_11 = 0.0\n",
      "u_12 = 0.1875\n",
      "u_13 = 0.125\n",
      "u_14 = 0.8125\n",
      "u_15 = 0.25\n",
      "u_16 = 0.4375\n",
      "u_17 = 0.375\n",
      "u_18 = 0.0625\n",
      "u_19 = 0.5\n"
     ]
    }
   ],
   "source": [
    "x0 = int(input(\"Ingrese el valor de la semilla: \"))\n",
    "a = int(input(\"Ingrese el valor de a: \"))\n",
    "m = int(input(\"Ingrese el valor de m: \"))\n",
    "c = int(input(\"Ingrese el valor de c: \"))\n",
    "limit = int(input(\"Ingrese la cantidad de numeros a generar: \"))\n",
    "\n",
    "xn = x0\n",
    "lista = []\n",
    "for i in range(limit):\n",
    "    xn_1 = ( a * xn + c ) % m\n",
    "    lista.append(xn_1 / m) \n",
    "    \n",
    "    message = \"u_{0} = {1}\".format(i + 1, lista[i])\n",
    "    \n",
    "    print(message)\n",
    "    xn = xn_1"
   ]
  },
  {
   "cell_type": "markdown",
   "metadata": {},
   "source": [
    "## Calculador de ciclo\n",
    "### Pseudocódigo:\n",
    "1. Obtener el resultado de un generador de números aleatorios como un arreglo\n"
   ]
  },
  {
   "cell_type": "code",
   "execution_count": 13,
   "metadata": {},
   "outputs": [],
   "source": [
    "def generadorciclos(lista):    \n",
    "    for i in range(len(lista)):\n",
    "        for j in range(i+1, len(lista)):\n",
    "            if lista[i]==lista[j]:\n",
    "                return str(j-i)\n",
    "    return \"No tiene ciclo\""
   ]
  },
  {
   "cell_type": "markdown",
   "metadata": {},
   "source": [
    "##### Ciclo a valores Congruencial Mixto"
   ]
  },
  {
   "cell_type": "code",
   "execution_count": 14,
   "metadata": {},
   "outputs": [
    {
     "name": "stdout",
     "output_type": "stream",
     "text": [
      "El periodo del ejemplo del Congruencial Mixto es = 16\n"
     ]
    }
   ],
   "source": [
    "print(\"El periodo del ejemplo del Congruencial Mixto es = {}\".format(generadorciclos(lista)))"
   ]
  },
  {
   "cell_type": "markdown",
   "metadata": {},
   "source": [
    "##### Ciclo a valores MidSquare"
   ]
  },
  {
   "cell_type": "code",
   "execution_count": null,
   "metadata": {},
   "outputs": [],
   "source": [
    "print(\"El periodo del ejemplo del Congruencial Mixto es = {}\".format(generadorciclos(listas)))"
   ]
  }
 ],
 "metadata": {
  "kernelspec": {
   "display_name": "Python 3",
   "language": "python",
   "name": "python3"
  },
  "language_info": {
   "codemirror_mode": {
    "name": "ipython",
    "version": 3
   },
   "file_extension": ".py",
   "mimetype": "text/x-python",
   "name": "python",
   "nbconvert_exporter": "python",
   "pygments_lexer": "ipython3",
   "version": "3.7.3"
  }
 },
 "nbformat": 4,
 "nbformat_minor": 2
}
