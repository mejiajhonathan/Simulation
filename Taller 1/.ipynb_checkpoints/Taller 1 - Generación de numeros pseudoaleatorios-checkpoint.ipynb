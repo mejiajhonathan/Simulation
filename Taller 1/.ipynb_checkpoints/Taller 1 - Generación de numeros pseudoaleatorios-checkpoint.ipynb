{
 "cells": [
  {
   "cell_type": "markdown",
   "metadata": {},
   "source": [
    "# Generación de Números Pseudoaleatorios"
   ]
  },
  {
   "cell_type": "markdown",
   "metadata": {},
   "source": [
    "# Método de Cuadrados Medios (_MidSquare_)\n",
    "### Pseudocódigo:\n",
    "1. Digite un número al azar, $X_0$, de $2n$ cifras.\n",
    "2. Eleve $X_0$ al cuadrado y guardelo en la variable $X_0^2$.\n",
    "3. Si el $X_0^2$ tiene menos de $4n$ cifras, añada ceros a la izquierda de $X_0^2$.\n",
    "4. Selecciona las $2n$ cifras centrales de $X_0^2$ y guardelas en la variable $X_n$.\n",
    "5. Ponga un punto decimal al frente del número $X_n$; éste será la variable $U_n$ que representa el enésimo número aleatorio.\n",
    "6. Repita el procedimiento con la variable $X_n$."
   ]
  },
  {
   "cell_type": "code",
   "execution_count": null,
   "metadata": {},
   "outputs": [],
   "source": [
    "def digits_of_number(value):\n",
    "    \"\"\"\n",
    "    Retorna el número de digitos que tiene un\n",
    "    número entero.\n",
    "    \"\"\"\n",
    "    val = int(value) #lanza excepción si no es un entero.\n",
    "    return len(str(val))\n",
    "\n",
    "\n",
    "def add_left_zeros(value, size):\n",
    "    \"\"\"\n",
    "    Añade ceros a la izquierda hasta que el número de\n",
    "    digitos de la variable value corresponda con el\n",
    "    valor de la variable size.\n",
    "    \"\"\"\n",
    "    val = int(value) #lanza excepción si no es un entero.\n",
    "    val_str = str(val)\n",
    "    \n",
    "    if(len(val_str) > size):\n",
    "        raise Exception(\"La cantidad de digitos es mayor a la necesaria.\")\n",
    "    elif(len(val_str) == size):\n",
    "        return val_str\n",
    "    else:\n",
    "        requested_zeros = size - len(val_str)\n",
    "        zeros_string = \"\"\n",
    "        \n",
    "        for x in range(requested_zeros):\n",
    "            zeros_string += \"0\"\n",
    "            \n",
    "        return zeros_string + val_str\n",
    "    \n",
    "    \n",
    "def take_the_middle(value, size):\n",
    "    \"\"\"\n",
    "    Toma el numero de cifras centrales de la variable value\n",
    "    especificado por la variable size.\n",
    "    \"\"\"\n",
    "    padding = int(size / 2)\n",
    "    return value[padding: - padding]\n",
    "\n",
    "\n",
    "def transform_to_decimals(value):\n",
    "    \"\"\"\n",
    "    Transforma un número entero (que puede contener ceros\n",
    "    a la izquierda puesto que es representado en un\n",
    "    String) a decimales, en la forma:\n",
    "    12 = 0.12\n",
    "    023 = 0.023\n",
    "    \"\"\"\n",
    "    new_value = \"0.\" + value\n",
    "    return float(new_value)"
   ]
  },
  {
   "cell_type": "code",
   "execution_count": 4,
   "metadata": {},
   "outputs": [
    {
     "name": "stdout",
     "output_type": "stream",
     "text": [
      "Digite el valor de n: 2\n",
      "Digite el valor de X_0: 1234\n",
      "¿Cuántos valores quiere generar? 3\n",
      "u_1 = 0.5227\n",
      "u_2 = 0.3215\n",
      "u_3 = 0.3362\n"
     ]
    }
   ],
   "source": [
    "n = int(input(\"Digite el valor de n: \"))\n",
    "x0 = int(input(\"Digite el valor de X_0: \"))\n",
    "limit = int(input(\"¿Cuántos valores quiere generar? \"))\n",
    "\n",
    "if(digits_of_number(x0) == 2 * n):\n",
    "    xn = x0\n",
    "    for i in range(limit):\n",
    "        xn = int(xn)\n",
    "        xn_2 = xn ** 2\n",
    "        xn_2_str = str(xn_2)\n",
    "\n",
    "        if(digits_of_number(xn_2) != 4 * n):\n",
    "            xn_2_str = add_left_zeros(xn_2, 4 * n)\n",
    "\n",
    "        xn = take_the_middle(xn_2_str, 2 * n)\n",
    "        un = transform_to_decimals(xn)\n",
    "        \n",
    "        message = \"u_{0} = {1}\".format(i + 1, un)\n",
    "        print(message)\n",
    "else:\n",
    "    print(\"La cantidad de cifras de X_0 no es igual a 2*n\")"
   ]
  },
  {
   "cell_type": "markdown",
   "metadata": {},
   "source": [
    "## Congruencial Mixto\n",
    "### Pseudocódigo:\n",
    "1. Escoger una semilla $X_0$.\n",
    "2. Escoger dos enteros positivos $a$ y $m$\n",
    "3. Obtener $X_n$ a partir de la formula $X_n = (a * X_{n-1} + c) \\% m$\n",
    "4. Obtener $U_i$ a partir de la formula $U_i = \\frac{x_i}{m}$\n",
    "5. Repita"
   ]
  },
  {
   "cell_type": "code",
   "execution_count": 42,
   "metadata": {},
   "outputs": [
    {
     "name": "stdout",
     "output_type": "stream",
     "text": [
      "Digite el valor de la semilla: \n",
      "7\n",
      "Digite el valor de a: \n",
      "5\n",
      "Digite el valor de m: \n",
      "16\n",
      "Digite el valor de c: \n",
      "3\n",
      "¿Cuántos valores quiere generar? \n",
      "20\n",
      "u_1 = 0.375\n",
      "u_2 = 0.0625\n",
      "u_3 = 0.5\n",
      "u_4 = 0.6875\n",
      "u_5 = 0.625\n",
      "u_6 = 0.3125\n",
      "u_7 = 0.75\n",
      "u_8 = 0.9375\n",
      "u_9 = 0.875\n",
      "u_10 = 0.5625\n",
      "u_11 = 0.0\n",
      "u_12 = 0.1875\n",
      "u_13 = 0.125\n",
      "u_14 = 0.8125\n",
      "u_15 = 0.25\n",
      "u_16 = 0.4375\n",
      "u_17 = 0.375\n",
      "u_18 = 0.0625\n",
      "u_19 = 0.5\n",
      "u_20 = 0.6875\n"
     ]
    }
   ],
   "source": [
    "x0 = int(input(\"Digite el valor de la semilla: \"))\n",
    "a = int(input(\"Digite el valor de a: \"))\n",
    "m = int(input(\"Digite el valor de m: \"))\n",
    "c = int(input(\"Digite el valor de c: \"))\n",
    "limit = int(input(\"¿Cuántos valores quiere generar? \"))\n",
    "\n",
    "xn = x0\n",
    "for i in range(limit):\n",
    "    xn_1 = ( a * xn + c ) % m\n",
    "    un = xn_1 / m\n",
    "    \n",
    "    message = \"u_{0} = {1}\".format(i + 1, un)\n",
    "    print(message)\n",
    "    xn = xn_1"
   ]
  },
  {
   "cell_type": "markdown",
   "metadata": {},
   "source": [
    "## Calculador de ciclo\n",
    "### Pseudocódigo:\n",
    "1. Obtener el resultado de un generador de números aleatorios como un arreglo\n",
    "2. ble"
   ]
  },
  {
   "cell_type": "code",
   "execution_count": 44,
   "metadata": {},
   "outputs": [],
   "source": [
    "def get_generator_cycle(random_numbers):\n",
    "    \"\"\"\n",
    "    La función calcula el tamaño del ciclo a \n",
    "    partir de los números aleatorios entregados\n",
    "    por un generador pseudoaleatorio.\n",
    "    Dependiendo de la cantidad de números o de la\n",
    "    efectividad del generador, es posible que no pueda\n",
    "    calcularse el tamaño del ciclo.\n",
    "    \"\"\"\n",
    "    return 1"
   ]
  }
 ],
 "metadata": {
  "kernelspec": {
   "display_name": "Python 3",
   "language": "python",
   "name": "python3"
  },
  "language_info": {
   "codemirror_mode": {
    "name": "ipython",
    "version": 3
   },
   "file_extension": ".py",
   "mimetype": "text/x-python",
   "name": "python",
   "nbconvert_exporter": "python",
   "pygments_lexer": "ipython3",
   "version": "3.7.3"
  }
 },
 "nbformat": 4,
 "nbformat_minor": 2
}
