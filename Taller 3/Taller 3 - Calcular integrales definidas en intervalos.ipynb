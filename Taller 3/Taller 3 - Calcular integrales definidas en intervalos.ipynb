{
 "cells": [
  {
   "cell_type": "markdown",
   "metadata": {},
   "source": [
    "# Generación de Variables Aleatorias Discretas"
   ]
  },
  {
   "cell_type": "markdown",
   "metadata": {},
   "source": [
    "Jhonathan Mejia-160003525\n",
    "### Taller 3:\n",
    "1. Implementar los métodos para calcular integrales definidas en el intervalo [0,1], [a,b] y [0, Inf) y la estimación de Pi (para calcular el área de una circunferencia de la Sección 3.2 Uso de números aleatorios para evaluar integrales)."
   ]
  },
  {
   "cell_type": "code",
   "execution_count": 1,
   "metadata": {},
   "outputs": [],
   "source": [
    "import random\n",
    "import math\n",
    "import numpy as np\n",
    "import sympy as sp\n",
    "\n",
    "x = sp.Symbol('x')\n",
    "e = sp.Symbol('e')\n",
    "potencia = sp.Symbol('^')\n",
    "\n",
    "def generador_aleatorio(n):\n",
    "    a=5\n",
    "    b=7\n",
    "    m=200\n",
    "    x0=3\n",
    "    randoms = []\n",
    "    for i in range(n):\n",
    "        xn = float((a * x0 + b) % m)\n",
    "        x0 = xn\n",
    "        random = float(xn/m)\n",
    "        randoms.append(random)\n",
    "    return randoms\n"
   ]
  },
  {
   "cell_type": "markdown",
   "metadata": {},
   "source": [
    "## Integrales definidas en el intervalo [0,1]\n"
   ]
  },
  {
   "cell_type": "code",
   "execution_count": 6,
   "metadata": {},
   "outputs": [
    {
     "name": "stdout",
     "output_type": "stream",
     "text": [
      "Introduzca el valor de n para el metodo de Montecarlo: 1000\n",
      "Digite la funcion a evaluar: e^x^2\n",
      "La integral de la función  e**(x**2)  fue evaluada en el intervalo [0,1]\n",
      "Aproximación de MonteCarlo :  1.45335553407604\n"
     ]
    }
   ],
   "source": [
    "def integral_intervalo_cero_uno(funcion,n):\n",
    "    suma = 0\n",
    "    fu=sp.sympify(funcion)\n",
    "    for i in range(n):\n",
    "        u = random.random()\n",
    "        suma=suma+fu.evalf(subs={e:math.e,x:u, potencia:math.pow})\n",
    "    print(\"La integral de la función \",fu ,\" fue evaluada en el intervalo [0,1]\")\n",
    "    print(\"Aproximación de MonteCarlo : \",suma/n)\n",
    "    \n",
    "    \n",
    "n=int(input(\"Introduzca el valor de n para el metodo de Montecarlo: \"))\n",
    "funcion=input(\"Digite la funcion a evaluar: \")\n",
    "\n",
    " \n",
    "integral_intervalo_cero_uno(funcion,n)\n"
   ]
  },
  {
   "cell_type": "markdown",
   "metadata": {},
   "source": [
    "# Integrales definidas en el intervalo [a,b]"
   ]
  },
  {
   "cell_type": "code",
   "execution_count": 5,
   "metadata": {},
   "outputs": [
    {
     "name": "stdout",
     "output_type": "stream",
     "text": [
      "Introduce el valor de n para el metodo de Montecarlo: 1000\n",
      "Digite la funcion a evaluar: e**(x+x**2)\n",
      "Introduce el valor de [a]: -2\n",
      "Introduce el valor de [b]: 2\n",
      "La integral de la función  e**(x+x**2)  fue evaluada en el intervalo [ -2.0 , 2.0 ]\n",
      "Aproximación método MonteCarlo :  89.8161566371260\n"
     ]
    }
   ],
   "source": [
    "def integral_intervalo_a_b(funcion,n,valor_a,valor_b):\n",
    "    a = valor_a\n",
    "    b = valor_b\n",
    "    suma = 0\n",
    "    fu=sp.sympify(funcion)\n",
    "    for i in range(n):               \n",
    "        xi = random.random()*(b-a)+a\n",
    "        y = (b-a)*fu.evalf(subs={e:math.e,x:xi, potencia:math.pow})\n",
    "        suma+=y\n",
    "    print(\"La integral de la función \",funcion ,\" fue evaluada en el intervalo [\",a,\",\",b,\"]\")  \n",
    "    print(\"Aproximación método MonteCarlo : \",suma/n)\n",
    "   \n",
    "    \n",
    "n=int(input(\"Introduce el valor de n para el metodo de Montecarlo: \"))\n",
    "\n",
    "funcion=input(\"Digite la funcion a evaluar: \")\n",
    "a=float(input(\"Introduce el valor de [a]: \"))\n",
    "b=float(input(\"Introduce el valor de [b]: \"))\n",
    "integral_intervalo_a_b(funcion,n,a,b) "
   ]
  },
  {
   "cell_type": "markdown",
   "metadata": {},
   "source": [
    "# Integrales definidas en el intervalo [0, ∞]"
   ]
  },
  {
   "cell_type": "code",
   "execution_count": 4,
   "metadata": {},
   "outputs": [
    {
     "name": "stdout",
     "output_type": "stream",
     "text": [
      "Introduce el valor de n para el metodo de Montecarlo: 1000\n",
      "Digite la funcion a evaluar: x/((1+x^2)^2)\n",
      "La integral de la función  x/((1+x^2)^2)  fue evaluada en el intervalo [0 , infinito ]\n",
      "Aproximación método MonteCarlo :  1.191673062946877\n"
     ]
    }
   ],
   "source": [
    "def integral_intervalo_cero_infinito(func,n):\n",
    "    suma = 0\n",
    "    fu=sp.sympify(func) \n",
    "    \n",
    "    for i in range(n):   \n",
    "        y=1/(random.random()+1)       \n",
    "        x=(1/y)-1\n",
    "        h = fu.evalf(subs={e:math.e,x:x})/(y*y)\n",
    "        suma+=y \n",
    "        \n",
    "    print(\"La integral de la función \",func ,\" fue evaluada en el intervalo [0\",\",\",\"infinito\",\"]\")  \n",
    "    print(\"Aproximación método MonteCarlo : \",(1/(y*y))*suma/n)\n",
    "   \n",
    "    \n",
    "n=int(input(\"Introduce el valor de n para el metodo de Montecarlo: \"))\n",
    "\n",
    "func=input(\"Digite la funcion a evaluar: \")\n",
    "integral_intervalo_cero_infinito(func,n) "
   ]
  },
  {
   "cell_type": "markdown",
   "metadata": {},
   "source": [
    "## Estimación de PI"
   ]
  },
  {
   "cell_type": "code",
   "execution_count": 43,
   "metadata": {},
   "outputs": [
    {
     "name": "stdout",
     "output_type": "stream",
     "text": [
      "El valor aproximado de PI es:  4.0 con  10 iteraciones\n",
      "El valor aproximado de PI es:  3.28 con  100 iteraciones\n",
      "El valor aproximado de PI es:  3.16 con  1000 iteraciones\n",
      "El valor aproximado de PI es:  3.1244 con  10000 iteraciones\n",
      "El valor aproximado de PI es:  3.14248 con  100000 iteraciones\n",
      "El valor aproximado de PI es:  3.141944 con  1000000 iteraciones\n",
      "El valor aproximado de PI es:  3.1411328 con  10000000 iteraciones\n"
     ]
    }
   ],
   "source": [
    "def estimar_pi(n):\n",
    "    #Contador\n",
    "    k = 0\n",
    "    #Iteramos n veces\n",
    "    for i in range(n):\n",
    "        #Generamos los números aleatorios\n",
    "        x = random.uniform(0, 1)\n",
    "        y = random.uniform(0, 1)\n",
    "        #Por la ecuación del círculo verificamos que el punto este adentro\n",
    "        if (x ** 2 + y ** 2 <= 1):\n",
    "            # Si cumple la condicion aumentamos en 1\n",
    "            k = k + 1\n",
    "    #para calcular aprox PI = 4 * float(k) / n\n",
    "    #retornamos el numero de puntos que quedaron dentro del circulo\n",
    "    return (4 * float(k) / n)\n",
    "\n",
    "#Se llama la función estimar_Pi con diferente cantidad de números aleatorios a generar\n",
    "\n",
    "valor_n=10\n",
    "for i in range (7):\n",
    "    print(\"El valor aproximado de PI es: \",estimar_pi(valor_n), \"con \", valor_n, \"iteraciones\")\n",
    "    valor_n=valor_n*10\n"
   ]
  },
  {
   "cell_type": "code",
   "execution_count": null,
   "metadata": {},
   "outputs": [],
   "source": []
  }
 ],
 "metadata": {
  "kernelspec": {
   "display_name": "Python 3",
   "language": "python",
   "name": "python3"
  },
  "language_info": {
   "codemirror_mode": {
    "name": "ipython",
    "version": 3
   },
   "file_extension": ".py",
   "mimetype": "text/x-python",
   "name": "python",
   "nbconvert_exporter": "python",
   "pygments_lexer": "ipython3",
   "version": "3.7.3"
  }
 },
 "nbformat": 4,
 "nbformat_minor": 2
}
