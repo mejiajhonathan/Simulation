{
 "cells": [
  {
   "cell_type": "markdown",
   "metadata": {},
   "source": [
    "# Generación de Variables Aleatorias Discretas"
   ]
  },
  {
   "cell_type": "markdown",
   "metadata": {},
   "source": [
    "Jhonathan Mejia-160003525\n",
    "### Taller 2:\n",
    "1. Implementar el método de la transformada inversa.\n",
    "2. Implementar el método para la generación de v.a. Poisson (Sec. 4.2, Ross99)\n",
    "3. Implementar el método para la generación de v.a. Binomiales (Sec. 4.3, Ross99)\n",
    "4. Implementar la técnica de aceptación y rechazo para la generación de v.a. Discretas (Sec. 4.4, Ross99)\n",
    "5. Implementar el método de composición para la generación de v.a. Discretas (Sec. 4.4, Ross99)\n",
    "6. Ejercicios 1, 3, 4, 7 (Cap. 4, Ross99)"
   ]
  },
  {
   "cell_type": "code",
   "execution_count": 76,
   "metadata": {},
   "outputs": [],
   "source": [
    "import random\n",
    "import math\n",
    "\n",
    "def generador_aleatorios():\n",
    "    return random.random()\n",
    "\n",
    "def es_probabilidad(probability):\n",
    "    return probability >= 0 and probability <= 1\n",
    "\n",
    "def aproximacion(value):\n",
    "    return value >= 0.99 and value <= 1.01"
   ]
  },
  {
   "cell_type": "markdown",
   "metadata": {},
   "source": [
    "## Método de la Transformada Inversa"
   ]
  },
  {
   "cell_type": "code",
   "execution_count": 71,
   "metadata": {},
   "outputs": [
    {
     "name": "stdout",
     "output_type": "stream",
     "text": [
      "Número de Variables Aleatorias: 100\n",
      "Número de probabilidades: 2\n",
      "Valor de p_1: 0.45\n",
      "Valor de p_2: 0.55\n",
      "('X_2', 0.3268134922426952)\n",
      "('X_1', 0.6155231619790393)\n",
      "('X_1', 0.9217539996927212)\n",
      "('X_1', 0.8253827733083453)\n",
      "('X_2', 0.37400701135479986)\n",
      "('X_2', 0.5347259870117597)\n",
      "('X_1', 0.6378027051076447)\n",
      "('X_2', 0.5468732364534387)\n",
      "('X_1', 0.7003950306970177)\n",
      "('X_2', 0.08919821500383995)\n",
      "('X_2', 0.290190397235092)\n",
      "('X_1', 0.5717120420841441)\n",
      "('X_2', 0.3936098394669907)\n",
      "('X_1', 0.8193498347528299)\n",
      "('X_2', 0.313731066576465)\n",
      "('X_2', 0.22034313349994583)\n",
      "('X_1', 0.6845916252730222)\n",
      "('X_2', 0.08490874612593169)\n",
      "('X_2', 0.34618753035208427)\n",
      "('X_2', 0.5135175042063174)\n",
      "('X_1', 0.8036177266464967)\n",
      "('X_2', 0.07636272110396891)\n",
      "('X_1', 0.8738493659474534)\n",
      "('X_1', 0.6100156313458699)\n",
      "('X_2', 0.23181666706025617)\n",
      "('X_2', 0.479544037945121)\n",
      "('X_1', 0.6546931195262874)\n",
      "('X_2', 0.4894019583432855)\n",
      "('X_1', 0.5927618390111268)\n",
      "('X_2', 0.20748689482451566)\n",
      "('X_2', 0.1448181146262496)\n",
      "('X_2', 0.15021025821841105)\n",
      "('X_1', 0.8623349697673471)\n",
      "('X_2', 0.4181124189735359)\n",
      "('X_1', 0.96008434518779)\n",
      "('X_2', 0.32984600549203813)\n",
      "('X_2', 0.5405160138307746)\n",
      "('X_1', 0.7123843132978861)\n",
      "('X_2', 0.1660950590198904)\n",
      "('X_1', 0.5679411926921033)\n",
      "('X_1', 0.845120855574901)\n",
      "('X_1', 0.5670840121943007)\n",
      "('X_2', 0.4082519472896897)\n",
      "('X_1', 0.8378209685546666)\n",
      "('X_2', 0.15439581909871092)\n",
      "('X_1', 0.9860184578566151)\n",
      "('X_2', 0.07420587184557659)\n",
      "('X_1', 0.6900462197507429)\n",
      "('X_2', 0.4271976856777874)\n",
      "('X_1', 0.7630671836649864)\n",
      "('X_2', 0.017626228633008223)\n",
      "('X_2', 0.35201242762896445)\n",
      "('X_1', 0.8966828363487008)\n",
      "('X_1', 0.867224800138315)\n",
      "('X_1', 0.5612670648223177)\n",
      "('X_2', 0.4463266693483574)\n",
      "('X_1', 0.6943914030452069)\n",
      "('X_1', 0.5888665860970671)\n",
      "('X_2', 0.41988140831541143)\n",
      "('X_2', 0.4888978064456051)\n",
      "('X_2', 0.37858586394988003)\n",
      "('X_2', 0.23586210386701378)\n",
      "('X_2', 0.2596493596435021)\n",
      "('X_1', 0.654877902755642)\n",
      "('X_2', 0.010101856969246481)\n",
      "('X_1', 0.5857882774093395)\n",
      "('X_2', 0.2836866484260787)\n",
      "('X_1', 0.658495479850678)\n",
      "('X_2', 0.30363733515517)\n",
      "('X_1', 0.616405079369808)\n",
      "('X_1', 0.7296271530199764)\n",
      "('X_1', 0.6316791651795477)\n",
      "('X_2', 0.10638278042156801)\n",
      "('X_2', 0.2122074742158665)\n",
      "('X_2', 0.4015466442460256)\n",
      "('X_2', 0.26719049501020575)\n",
      "('X_2', 0.4612347215015029)\n",
      "('X_2', 0.2675838445135479)\n",
      "('X_1', 0.8143053732372606)\n",
      "('X_2', 0.33449241007864794)\n",
      "('X_2', 0.2755951146273765)\n",
      "('X_1', 0.6784440534148545)\n",
      "('X_2', 0.44725723563582254)\n",
      "('X_2', 0.0968476979376014)\n",
      "('X_1', 0.8634134500295139)\n",
      "('X_2', 0.11992608618858636)\n",
      "('X_2', 0.3683569306594425)\n",
      "('X_2', 0.5269877274406498)\n",
      "('X_2', 0.5473265447886586)\n",
      "('X_1', 0.8218624941742916)\n",
      "('X_1', 0.5541441528598378)\n",
      "('X_2', 0.2699821164900146)\n",
      "('X_2', 0.0062058112179878)\n",
      "('X_2', 0.2366600439966282)\n",
      "('X_2', 0.5339399483888243)\n",
      "('X_2', 0.29998710830837794)\n",
      "('X_2', 0.5221780946373399)\n",
      "('X_2', 0.03048462492958104)\n",
      "('X_1', 0.9975990092500636)\n",
      "('X_1', 0.6100551494086758)\n"
     ]
    }
   ],
   "source": [
    "def transformada_inversa(num_variables, arreglo):\n",
    "    ordenar = sorted(arreglo.items(), key=lambda x: x[1])\n",
    "    ordenar.reverse() \n",
    "    \n",
    "    resultados = [] \n",
    "    \n",
    "    fx = []\n",
    "    suma_temp = 0\n",
    "    \n",
    "    for key, value in ordenar:\n",
    "        suma_temp += value\n",
    "        fx.append(suma_temp)\n",
    "        \n",
    "    if(not es_probabilidad(suma_temp)):\n",
    "        raise Exception(\"El valor total no es 1\")\n",
    "        \n",
    "    for i in range(num_variables):\n",
    "        numero_aleatorio = generador_aleatorios()\n",
    "        cont = 0\n",
    "        for i in fx:\n",
    "            if(numero_aleatorio < i):\n",
    "                key = \"X_{}\".format(ordenar[cont][0])\n",
    "                resultados.append((key, numero_aleatorio))\n",
    "                break\n",
    "            cont += 1\n",
    "                \n",
    "    return resultados\n",
    "\n",
    "num_variables = int(input(\"Número de Variables Aleatorias: \"))\n",
    "num_probabilidades = int(input(\"Número de probabilidades: \"))\n",
    "\n",
    "arreglo_probabilidades = {}\n",
    "for i in range(num_probabilidades):\n",
    "    k = i + 1\n",
    "    valor = -1\n",
    "    \n",
    "    while(not es_probabilidad(valor)):\n",
    "        valor = float(input(\"Valor de p_{0}: \".format(k)))\n",
    "        if(not es_probabilidad(valor)):\n",
    "            print(\"¡El valor no es una probabilidad!\")\n",
    "        \n",
    "    arreglo_probabilidades[k] = valor\n",
    "\n",
    "variables_aleatorias =  transformada_inversa(num_variables, arreglo_probabilidades)\n",
    "for i in variables_aleatorias:\n",
    "    print(i)"
   ]
  },
  {
   "cell_type": "markdown",
   "metadata": {},
   "source": [
    "# Método para la Generación de V.A. Poisson"
   ]
  },
  {
   "cell_type": "code",
   "execution_count": 72,
   "metadata": {},
   "outputs": [
    {
     "name": "stdout",
     "output_type": "stream",
     "text": [
      "Ingrese el Número de Variables Aleatorias: 20\n",
      "Ingrese el valor de lambda: 0.37\n",
      "('X_0', 0.690655825703706)\n",
      "('X_0', 0.25684260634483314)\n",
      "('X_0', 0.413236692418951)\n",
      "('X_0', 0.15447686437903296)\n",
      "('X_0', 0.026989306784762968)\n",
      "('X_1', 0.761107788698308)\n",
      "('X_1', 0.8335859578791477)\n",
      "('X_0', 0.6179039269808658)\n",
      "('X_2', 0.952874315120852)\n",
      "('X_0', 0.4843988130893918)\n",
      "('X_0', 0.10300712622879826)\n",
      "('X_0', 0.5835206658991999)\n",
      "('X_0', 0.05811114098837833)\n",
      "('X_0', 0.34646012039089646)\n",
      "('X_0', 0.2868381617600436)\n",
      "('X_1', 0.8833403154208681)\n",
      "('X_1', 0.7279403951663813)\n",
      "('X_0', 0.38386638629214176)\n",
      "('X_1', 0.7885455901637545)\n",
      "('X_0', 0.0023492465635482906)\n"
     ]
    }
   ],
   "source": [
    "def poisson(numero, lambd):\n",
    "    resultado = []\n",
    "    for i in range(numero):\n",
    "        numero_aleatorio = generador_aleatorios()\n",
    "        i = 0\n",
    "        p = math.e ** (-1 * lambd)\n",
    "        F = p\n",
    "        while(numero_aleatorio >= F):\n",
    "            p = (lambd * p) / (i + 1)\n",
    "            F = F + p\n",
    "            i = i + 1\n",
    "\n",
    "        key = \"X_{}\".format(i)\n",
    "        resultado.append((key, numero_aleatorio))\n",
    "    \n",
    "    return resultado\n",
    "\n",
    "numero = int(input(\"Ingrese el Número de Variables Aleatorias: \"))\n",
    "lambd = float(input(\"Ingrese el valor de lambda: \"))\n",
    "\n",
    "variables =  poisson(numero, lambd)\n",
    "for i in variables:\n",
    "    print(i)"
   ]
  },
  {
   "cell_type": "markdown",
   "metadata": {},
   "source": [
    "# Método para la Generación de V.A. Binomiales"
   ]
  },
  {
   "cell_type": "code",
   "execution_count": 73,
   "metadata": {},
   "outputs": [
    {
     "name": "stdout",
     "output_type": "stream",
     "text": [
      "Número de variables aleatorias: 10\n",
      "Número de ensayos a realizar: 30\n",
      "Probabilidad de que el ensayo sea exitoso: 0.21\n",
      "('X_2', 0.021795947841200536)\n",
      "('X_5', 0.31141507712092764)\n",
      "('X_3', 0.06243792844449725)\n",
      "('X_5', 0.29297321631692075)\n",
      "('X_6', 0.4028422657466496)\n",
      "('X_10', 0.9437527102745864)\n",
      "('X_6', 0.5074412249864733)\n",
      "('X_5', 0.3455667325064271)\n",
      "('X_4', 0.1605473422682523)\n",
      "('X_4', 0.15403032579991316)\n"
     ]
    }
   ],
   "source": [
    "def binomial(num_variables, num_tests, exito):\n",
    "    if(num_tests <= 0):\n",
    "        raise Exception(\"El número de ensayos debe ser mayor o igual a cero\")\n",
    "    elif(not es_probabilidad(exito)):\n",
    "        raise Exception(\"El valor de probabilidad no está en el rango [0, 1]\")\n",
    "    \n",
    "    resultados = []\n",
    "    \n",
    "    for i in range(num_variables):\n",
    "        numero_aleatorio = generador_aleatorios()\n",
    "        fallo = 1 - exito\n",
    "\n",
    "        c = exito / fallo\n",
    "        i = 0\n",
    "        pr = fallo ** num_tests\n",
    "        F = pr\n",
    "\n",
    "        while(numero_aleatorio >= F):\n",
    "            pr = (c * (num_tests - i) / (i + 1)) * pr\n",
    "            F = F + pr\n",
    "            i = i + 1\n",
    "\n",
    "        key = \"X_{}\".format(i)\n",
    "        resultados.append((key, numero_aleatorio))\n",
    "    \n",
    "    return resultados\n",
    "\n",
    "num_variables = int(input(\"Número de variables aleatorias: \"))\n",
    "num_tests = int(input(\"Número de ensayos a realizar: \"))\n",
    "exito = float(input(\"Probabilidad de que el ensayo sea exitoso: \"))\n",
    "\n",
    "variables_aleatorias = binomial(num_variables, num_tests, exito)\n",
    "for i in variables_aleatorias:\n",
    "    print(i)"
   ]
  },
  {
   "cell_type": "markdown",
   "metadata": {},
   "source": [
    "# Técnica de Aceptación y Rechazo para la Generación de V.A. Discretas"
   ]
  },
  {
   "cell_type": "code",
   "execution_count": 74,
   "metadata": {},
   "outputs": [
    {
     "name": "stdout",
     "output_type": "stream",
     "text": [
      "La variable aleatoria generada es:  5\n"
     ]
    }
   ],
   "source": [
    "def maxDivision(listA, listB):\n",
    "    division = []\n",
    "    for i in range(len(listA)):\n",
    "        division.append(listA[i]/listB[i])\n",
    "    return max(division)\n",
    "\n",
    "def aceptacionRechazo():\n",
    "    #c Método de aceptación y rechazo\n",
    "    vaX = [1,2,3,4,5,6,7,8,9,10]\n",
    "    pj = [0.11, 0.12, 0.09, 0.08, 0.12, 0.10, 0.09, 0.09, 0.10, 0.10]\n",
    "    qj = [0.1, 0.1, 0.1, 0.1, 0.1, 0.1, 0.1, 0.1, 0.1, 0.1]\n",
    "    U1 = generador_aleatorios()\n",
    "    Y = int(10*U1)\n",
    "    Y = Y + 1\n",
    "    c = maxDivision(pj,qj) # c = max de pj/qj\n",
    "    consta = c*qj[0]\n",
    "    U2 = generador_aleatorios()\n",
    "    if U2<=pj[Y-1]/consta:\n",
    "        X = Y\n",
    "        print(\"La variable aleatoria generada es: \",X)\n",
    "    else:\n",
    "        aceptacionRechazo()\n",
    "        \n",
    "        \n",
    "aceptacionRechazo()"
   ]
  },
  {
   "cell_type": "markdown",
   "metadata": {},
   "source": [
    "# Método de Composición para la Generación de V.A. Discretas"
   ]
  },
  {
   "cell_type": "code",
   "execution_count": 17,
   "metadata": {},
   "outputs": [
    {
     "name": "stdout",
     "output_type": "stream",
     "text": [
      "('X', 6)\n"
     ]
    }
   ],
   "source": [
    "def composicion():\n",
    "    aleatorio1 = generador_aleatorios()\n",
    "    aleatorio2 = generador_aleatorios()\n",
    "    \n",
    "    resultados = []\n",
    "    if(aleatorio1 < 0.5):\n",
    "        resultados.append((\"X\", int(10 * aleatorio2)))\n",
    "    else:\n",
    "        resultados.append((\"X\", int(5 * aleatorio2) + 6))\n",
    "    return resultados\n",
    "\n",
    "aleatory_variables = composicion()\n",
    "for i in aleatory_variables:\n",
    "    print(i)"
   ]
  },
  {
   "cell_type": "markdown",
   "metadata": {},
   "source": [
    "# Ejercicios 1, 3, 4 y 7 del capitulo 4"
   ]
  },
  {
   "cell_type": "markdown",
   "metadata": {},
   "source": [
    "### Ejercicio 1\n",
    "Escriba un programa para generar $n$ valores a partir de la función de masa de probabilidad $p_1 = \\frac{1}{3}$, $p_2 = \\frac{2}{3}$\n",
    "- **_(a)_** Sea $n = 100$, ejecute el programa y determine la proporción de valores que sean iguales a 1.\n",
    "- **_(b)_** Repita _(a)_ con $n = 1000$.\n",
    "- **_(c)_** Repita _(a)_ con $n = 10000$."
   ]
  },
  {
   "cell_type": "code",
   "execution_count": 16,
   "metadata": {},
   "outputs": [
    {
     "name": "stdout",
     "output_type": "stream",
     "text": [
      "En n=100, 36 valores son iguales a 1 \n",
      "En n=1000, 327 valores son iguales a 1 \n",
      "En n=10000, 3411 valores son iguales a 1 \n"
     ]
    }
   ],
   "source": [
    "def iguales(list):\n",
    "    valores_iguales = 0\n",
    "    for i in list:\n",
    "        if(\"X_1\" in i[0]):\n",
    "            valores_iguales += 1\n",
    "    return valores_iguales\n",
    "\n",
    "probabilidades = {\n",
    "    1: 1 / 3,\n",
    "    2: 2 / 3\n",
    "}\n",
    "\n",
    "resultados_cien = transformada_inversa(100, probabilidades)\n",
    "resultados_cien = iguales(resultados_cien)\n",
    "print(\"En n={}, {} valores son iguales a 1 \".format(100,resultados_cien))\n",
    "\n",
    "resultados_mil = transformada_inversa(1000, probabilidades)\n",
    "resultados_mil = iguales(resultados_mil)\n",
    "print(\"En n={}, {} valores son iguales a 1 \".format(1000,resultados_mil,))\n",
    "\n",
    "resultados_diez_mil = transformada_inversa(10000, probabilidades)\n",
    "resultados_diez_mil = iguales(resultados_diez_mil)\n",
    "print(\"En n={}, {} valores son iguales a 1 \".format(10000,resultados_diez_mil))"
   ]
  },
  {
   "cell_type": "markdown",
   "metadata": {},
   "source": [
    "### Ejercicio 3\n",
    "Dé un algoritmo eficiente para simular el valor de una variable aleatoria X tal que\n",
    "$$ P\\{X=1\\}=0.3,  P\\{X=2\\}=0.2,  P\\{X=3\\}=0.35,  P\\{X=4\\}=0.15 $$"
   ]
  },
  {
   "cell_type": "code",
   "execution_count": 60,
   "metadata": {},
   "outputs": [
    {
     "name": "stdout",
     "output_type": "stream",
     "text": [
      "Número de Variables Aleatorias: 10\n",
      "('X_3', 0.23955963140995018)\n",
      "('X_3', 0.04993615894872461)\n",
      "('X_2', 0.8345295396420479)\n",
      "('X_3', 0.20057282677706734)\n",
      "('X_3', 0.11959999331681104)\n",
      "('X_3', 0.21463910858758983)\n",
      "('X_2', 0.8261956029193032)\n",
      "('X_3', 0.28328592207470094)\n",
      "('X_1', 0.3599003102564421)\n",
      "('X_2', 0.7456348232115084)\n"
     ]
    }
   ],
   "source": [
    "numero_variables = int(input(\"Número de Variables Aleatorias: \"))\n",
    "probabilidades = {\n",
    "    1: 0.3,\n",
    "    2: 0.2,\n",
    "    3: 0.35,\n",
    "    4: 0.15\n",
    "}\n",
    "\n",
    "variables_aleatorias =  transformada_inversa(numero_variables, probabilidades)\n",
    "for i in variables_aleatorias:\n",
    "    print(i)"
   ]
  },
  {
   "cell_type": "markdown",
   "metadata": {},
   "source": [
    "### Ejercicio 4\n",
    "Se baraja un conjunto de **100 cartas** (numeradas del 1 al 100) y luego se voltean, una a la vez. Decimos que ocurre un \"exito\" si la carta i es la *i*-ésima carta volteada, _i_ = 1,..., 100. Escriba un programa de simulación para estimar la esperanza y la varianza del número total de éxitos. Ejecute el programa. Determina las respuestas exactas y compárelas con sus estimaciones."
   ]
  },
  {
   "cell_type": "code",
   "execution_count": 92,
   "metadata": {},
   "outputs": [
    {
     "name": "stdout",
     "output_type": "stream",
     "text": [
      "Numero de exitos: 1.0 Probabilidad Simulada: 0.01\n",
      "Valor esperado : 1.0 Varianza: 0.99\n"
     ]
    }
   ],
   "source": [
    "def cartas():\n",
    "    for i in range(100):\n",
    "        ca.append(i+1)\n",
    "        \n",
    "def barajar():\n",
    "    cartas()\n",
    "    a=1\n",
    "    aux=0\n",
    "    for i in range(1,len(ca)+1):\n",
    "        b=len(ca)\n",
    "        Ui=generador_aleatorios()    \n",
    "        xi=int((b)*Ui+a)\n",
    "        aux=ca[xi-1]\n",
    "        bara.append(aux)\n",
    "        ca.remove(aux)\n",
    "    \n",
    "def exitos():\n",
    "    barajar()\n",
    "    exito=0\n",
    "    for i in range(1,len(bara)+1):\n",
    "        if(i==bara[i-1]):\n",
    "            exito+=1\n",
    "    return(exito)\n",
    "\n",
    "def probabilidad_simu():\n",
    "    prob=exitos()/100\n",
    "    valor_esp=100*prob\n",
    "    var=100*prob*(1-prob)\n",
    "    print(\"Numero de exitos:\",prob*100,\"Probabilidad Simulada:\",prob)\n",
    "    print(\"Valor esperado :\",valor_esp,\"Varianza:\",var)\n",
    "    \n",
    "\n",
    "if __name__==\"__main__\":\n",
    "    ca=[]\n",
    "    bara=[]\n",
    "    probabilidad_simu()"
   ]
  },
  {
   "cell_type": "markdown",
   "metadata": {},
   "source": [
    "### Ejercicio 7\n",
    "Se lanza de manera continua un par de dados legales, hasta que todos los posibles resultados **2, 3,..., 12** hayan aparecido al menos una vez. Desarrolle un estudio de simulación para estimar el número esperado de lanzamientos necesarios."
   ]
  },
  {
   "cell_type": "code",
   "execution_count": 36,
   "metadata": {},
   "outputs": [
    {
     "name": "stdout",
     "output_type": "stream",
     "text": [
      "Se necesitan en promedio 60.8722 lanzamientos para obtener todos los posibles resultados\n"
     ]
    }
   ],
   "source": [
    "def lanzar_dados():\n",
    "    dado_uno = random.randint(1, 6) #Genera un valor para el dado No. 1\n",
    "    dado_dos = random.randint(1, 6) #Genera un valor para el dado No. 2\n",
    "    return (dado_uno, dado_dos)\n",
    "\n",
    "def sumar_caras(resultado_dados):\n",
    "    return resultado_dados[0] + resultado_dados[1] #Suma el valor de las caras de los 2 dados\n",
    "\n",
    "def simular():\n",
    "    #Cuenta el número de lanzamientos necesarios para obtener todos los posibles resultados.\n",
    "    total = {}\n",
    "    bajas = 0\n",
    "    \n",
    "    while(len(total) != 11): # 11 es el número total de posibles resultados\n",
    "        suma_total = sumar_caras(lanzar_dados())\n",
    "        total[suma_total] = True\n",
    "        bajas += 1\n",
    "    \n",
    "    return bajas\n",
    "\n",
    "resultados = []\n",
    "iteraciones = 10000\n",
    "for i in range(iteraciones):\n",
    "    resultados.append(simular())\n",
    "\n",
    "media = sum(resultados) / iteraciones #Suma de los resultados de exito sobre la cantidad de iteraciones\n",
    "print(\"Se necesitan en promedio {} lanzamientos para obtener todos los posibles resultados\".format(media))"
   ]
  },
  {
   "cell_type": "code",
   "execution_count": null,
   "metadata": {},
   "outputs": [],
   "source": []
  }
 ],
 "metadata": {
  "kernelspec": {
   "display_name": "Python 3",
   "language": "python",
   "name": "python3"
  },
  "language_info": {
   "codemirror_mode": {
    "name": "ipython",
    "version": 3
   },
   "file_extension": ".py",
   "mimetype": "text/x-python",
   "name": "python",
   "nbconvert_exporter": "python",
   "pygments_lexer": "ipython3",
   "version": "3.7.3"
  }
 },
 "nbformat": 4,
 "nbformat_minor": 2
}
