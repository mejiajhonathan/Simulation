{
 "cells": [
  {
   "cell_type": "markdown",
   "metadata": {
    "colab_type": "text",
    "id": "Avk4eoHVwH5P"
   },
   "source": [
    "# T4: Taller 4. Taller contrastes de números aleatorios\n",
    "* Jhonathan Mejia-160003525.\n",
    "\n",
    "\n",
    "* Tomando como base éste Notebook, implementar los contrastes o pruebas de Kolmogorov-Smirnov, $\\chi^2$, pares consecutivos no solapados y rachas (opcional: contraste o prueba de permutaciones y de huecos) en la sección correspondiente para evaluar la calidad de cualquier secuencia de números obtenidas por un generador de números aleatorios $U(0,1)$ utilizando tanto el generador de numpy como el implementado por Ud previamente.\n",
    "* Evaluar la calidad de los siguientes generadores de números aleatorios usando las pruebas implementadas en el punto anterior:\n",
    "    * RANDU $x_{i+1}=65539 x_i \\mod 2^{31}$\n",
    "    * Sinclair ZX81 $x_{i+1}=75 x_i \\mod (2^{16}+1)$\n",
    "    * Numerical reciepes $x_{i+1}= 1664525 x_i + 1013904223 \\mod 2^{32}$\n",
    "    * Borland C/C++ $x_{i+1}= 22695477 x_i + 1 \\mod 2^{32}$"
   ]
  },
  {
   "cell_type": "code",
   "execution_count": 76,
   "metadata": {
    "colab": {
     "base_uri": "https://localhost:8080/",
     "height": 320
    },
    "colab_type": "code",
    "executionInfo": {
     "elapsed": 744,
     "status": "ok",
     "timestamp": 1558535708444,
     "user": {
      "displayName": "Angel Alfonso Cruz Roa",
      "photoUrl": "",
      "userId": "10518820391444244869"
     },
     "user_tz": 300
    },
    "id": "ktDCgVCDwH4_",
    "outputId": "3d3785ae-9a86-435a-a542-c4a5fac4d924"
   },
   "outputs": [],
   "source": [
    "%matplotlib inline \n",
    "\n",
    "import numpy as np\n",
    "import scipy as sp\n",
    "import matplotlib.pyplot as plt\n",
    "import random\n",
    "import time"
   ]
  },
  {
   "cell_type": "markdown",
   "metadata": {},
   "source": [
    "# Generadores de números aleatorios"
   ]
  },
  {
   "cell_type": "code",
   "execution_count": 1,
   "metadata": {},
   "outputs": [],
   "source": [
    "def randu(n):\n",
    "    xList = [] #arreglo con los numeros generados\n",
    "    m = 2**31\n",
    "    lastXn = int(time.perf_counter())+65539\n",
    "    print(time.perf_counter())\n",
    "    for i in range(n):\n",
    "        Xn = float((65539*lastXn)% m)\n",
    "        lastXn = Xn\n",
    "        random = float(Xn/m)\n",
    "        xList.append(random)\n",
    "    return xList\n",
    "\n",
    "def sinclair(n):\n",
    "    \n",
    "    xList = [] #arreglo con los numeros generados\n",
    "    m = 2**16+1\n",
    "    lastXn = int(time.perf_counter())+65539\n",
    "    for i in range(n):\n",
    "        Xn = float((75*lastXn)% m)\n",
    "        lastXn = Xn\n",
    "        random = float(Xn/m)\n",
    "        xList.append(random)\n",
    "        #print random\n",
    "    #print xList\n",
    "    return xList\n",
    "\n",
    "def numericalRecipes(n):\n",
    "    \n",
    "    xList = [] #arreglo con los numeros generados\n",
    "    m = 2**32\n",
    "    lastXn = int(time.perf_counter())+65539\n",
    "    for i in range(n):\n",
    "        Xn = float((1664525*lastXn+1013904223)% m)\n",
    "        lastXn = Xn\n",
    "        random = float(Xn/m)\n",
    "        xList.append(random)\n",
    "        #print random\n",
    "    #print xList\n",
    "    return xList\n",
    "\n",
    "def borland(n):\n",
    "    \n",
    "    xList = [] #arreglo con los numeros generados\n",
    "    m = 2**32\n",
    "    lastXn = int(time.perf_counter())+65539\n",
    "    print (lastXn)\n",
    "    for i in range(n):\n",
    "        Xn = float((22695477*lastXn+1)% m)\n",
    "        lastXn = Xn\n",
    "        random = float(Xn/m)\n",
    "        xList.append(random)\n",
    "        #print random\n",
    "    #print xList\n",
    "    return xList\n",
    "       \n",
    "def cong_mixto(N):\n",
    "    Xn = time.time()\n",
    "    xList = []\n",
    "    a = 25214903917\n",
    "    m = (2**48)-1\n",
    "    for _ in range(0,N):\n",
    "        Xn = (a*Xn + 1) % m\n",
    "        Un = Xn/m\n",
    "        xList.append(Un)\n",
    "        \n",
    "    return xList\n",
    "\n",
    "def numerosAleatorios(size):\n",
    "    result = np.zeros(size)\n",
    "    for i in range(size):\n",
    "        result[i] = random.random()\n",
    "    return result\n",
    "    \n",
    "\n",
    "def numpyRandom(x):   \n",
    "    return np.random.uniform(0, 1,x)\n",
    "    \n"
   ]
  },
  {
   "cell_type": "markdown",
   "metadata": {
    "colab_type": "text",
    "id": "2WBZwnwCwH46"
   },
   "source": [
    "### Constraste o prueba de Kolmogorov-Smirnov\n",
    "\n",
    "Consideramos el caso en que $F_0$ es continua. La función de distribución empírica de una muestra $X_1, X_2,...,X_n$ se define como:\n",
    "\n",
    "$$F_n(x)=\\frac{\\#\\{X_{i}\\leq x\\}}{n}$$\n",
    "\n",
    "Bajo la hipótesis nula $H_0:F_X(x)=F_0(x)$, esperamos que $F_n$ se aproxime a $F_0$. Definimos el estadístico bilateral de Kolmogorov-Smirnov\n",
    "\n",
    "$$D_{n}=\\underset{x\\in\\mathbb{R}}{\\sup}\\left|F_{n}(x)-F_{0}(x)\\right|$$\n",
    "\n",
    "La distribución exacta de $D_n$ está tabulada para valores seleccionados de $n\\leq40$ y del nivel de significación $\\alpha$. Para muestras grandes, se utiliza la distribución asintótica de $D_n$, que viene dada, para todo $z\\leq0$, por\n",
    "\n",
    "$$\\underset{n\\rightarrow\\infty}{\\lim}P(\\sqrt{n}D_{n}\\leq z)=L(z)=1-2\\overset{\\infty}{\\underset{i=1}{\\sum}}(-1)^{i-1}e^{-2i^{2}z^{2}}$$\n",
    "\n",
    "$L(z)$ está tabulada y se comprueba que la aproximación es suficientemente buena para $n\\geq35$. Intuitivamente, esperamos que $D_n$ sea pequeño cuando la hipótesis nula es cierta.\n",
    "En nuestro caso particula de aleatoriedad, si $X_{(1)}<X_{(2)}<...<X_{(n)}$ designa al estadístico de orden, $F_0(x_{(i)})=x_{(i)}$, y como $F_n(x_{(i)})=i/n$, resulta:\n",
    "\n",
    "$$D_{n}=\\underset{i\\leq i\\leq n}{\\max}\\left\\{ \\max\\left[\\left|\\frac{i}{n}-x_{(i)}\\right|,\\left|x_{(i)}-\\frac{i-1}{n}\\right|\\right]\\right\\}$$\n",
    "\n",
    "\n",
    "\n",
    "<center><img src=\"https://bitbucket.org/aacruzr/unillanos-notebooks/raw/afc11c0ebe3579af514229d8ee351646dea883bb/simulacion/notebooks/imgs/300px-KS_Example.png\" width=\"30%\" height=\"30%\" ></center>\n",
    "<center>Figura. Ilustración del estadístico de Kolmogorov–Smirnov (K–S). La línea roja es una función de distribución acumulada (cumulative distribution function, CDF), la línea azul es una función empirica de distribución acumulada (empirical cumulative distribution function, ECDF), y la línea negra es el estadístico K–S. Imagen tomada de Wikipedia [https://en.wikipedia.org/wiki/Kolmogorov%E2%80%93Smirnov_test]</center>\n",
    "\n",
    "\n",
    "## Codigo Kolmogorov\n"
   ]
  },
  {
   "cell_type": "code",
   "execution_count": 84,
   "metadata": {
    "colab": {},
    "colab_type": "code",
    "id": "P_pqfbfqwH47"
   },
   "outputs": [],
   "source": [
    "def kolmogorov():\n",
    "    \n",
    "    #Generador de numeros aleatorios\n",
    "    \n",
    "    print('Escoja el generador a probar: ')\n",
    "    print(\"Opciones\\n1.- RANDU\\n2.- Sinclair ZX81\\n3.- Numerical Recipes\\n4.-Borland C/C++\\n5.-Generador Aleatorio\\n6.-Generador Numpy\")\n",
    "    seleccion = input(\"Opcion: \")\n",
    "    generadores = { '1': randu, '2': sinclair, '3': numericalRecipes, '4': borland, '5': numerosAleatorios,'6':numpyRandom}\n",
    "    n = int(input(\"Inserte la cantidad de numeros a generar n: \"))\n",
    "    x = generadores[seleccion](n)\n",
    "    # Teoretical CDF for Uniform distribution F(x)\n",
    "    u = [1.0] * n\n",
    "    \n",
    "    # Graficar distribucion empirirca f(x)\n",
    "    count, bins, ignored = plt.hist(x, 10, normed=True)\n",
    "    plt.plot(bins, np.ones_like(bins), linewidth=3, color = '#FA58F4')\n",
    "    plt.show()\n",
    "    # Generamos la distribucion acumulada de una distribucion uniforme con parametros 0 y 1, para n valores.\n",
    "    x1 = np.arange(1/(n+0.0),1+1/(n+0.0),1/(n+0.0))\n",
    "    y1 = np.cumsum(np.sort(u)/np.max(np.cumsum(u)))\n",
    "    #Generamos distribucion acumulada del generador que estamos evaluando para N valores.\n",
    "    x2 = np.sort(x)\n",
    "    y2 = np.cumsum(np.sort(x)/np.max(np.cumsum(x)))\n",
    "\n",
    "    De=np.absolute(y2-y1)\n",
    "    print(\"De = \",np.max(De))\n",
    "    \n",
    "    # Plotting\n",
    "    plt.plot(x1,y1,label='Uniforme')\n",
    "    plt.step(x2,y2,label='Aleatoria')\n",
    "    x3 = [x1[De.argmax()],x1[De.argmax()]]\n",
    "    y3 = [np.min([y1[De.argmax()],y2[De.argmax()]]),np.max([y1[De.argmax()],y2[De.argmax()]])]\n",
    "    plt.step(x3,y3,label='De')\n",
    "    \n",
    "    plt.legend()\n",
    "    plt.xlabel('X')\n",
    "    plt.ylabel('Probabilidad acumulada P(X)')\n",
    "    Da = (1.36/(n**0.5)+0.0)\n",
    "    if np.max(De)< Da:\n",
    "        print ('El generador probado es UNIFORME, hipotesis aceptada, De: ',np.max(De),' menor que Da: ',Da)\n",
    "    else:\n",
    "        print ('Hipotesis rechazada, generador NO UNIFORME. Da: ',Da)\n",
    "    print ('Nivel de significacion a: ',(0.05))\n",
    "        \n",
    "    \n",
    "\n"
   ]
  },
  {
   "cell_type": "markdown",
   "metadata": {
    "colab": {
     "base_uri": "https://localhost:8080/",
     "height": 300
    },
    "colab_type": "code",
    "executionInfo": {
     "elapsed": 1054,
     "status": "ok",
     "timestamp": 1558535720791,
     "user": {
      "displayName": "Angel Alfonso Cruz Roa",
      "photoUrl": "",
      "userId": "10518820391444244869"
     },
     "user_tz": 300
    },
    "id": "8cHmY3mOwH5F",
    "outputId": "24123b94-1832-4dfe-a30e-dfe26eb673ac"
   },
   "source": [
    "\n",
    "## Test Kolmogorov"
   ]
  },
  {
   "cell_type": "code",
   "execution_count": 85,
   "metadata": {},
   "outputs": [
    {
     "name": "stdout",
     "output_type": "stream",
     "text": [
      "Escoja el generador a probar: \n",
      "Opciones\n",
      "1.- RANDU\n",
      "2.- Sinclair ZX81\n",
      "3.- Numerical Recipes\n",
      "4.-Borland C/C++\n",
      "5.-Generador Aleatorio\n",
      "6.-Generador Numpy\n",
      "Opcion: 6\n",
      "Inserte la cantidad de numeros a generar n: 10\n"
     ]
    },
    {
     "data": {
      "image/png": "[encoded data removed]",
      "text/plain": [
       "<Figure size 432x288 with 1 Axes>"
      ]
     },
     "metadata": {
      "needs_background": "light"
     },
     "output_type": "display_data"
    },
    {
     "name": "stdout",
     "output_type": "stream",
     "text": [
      "De =  0.3046934790572348\n",
      "El generador probado es UNIFORME, hipotesis aceptada, De:  0.3046934790572348  menor que Da:  0.4300697617828996\n",
      "Nivel de significacion a:  0.05\n"
     ]
    },
    {
     "data": {
      "image/png": "[encoded data removed]",
      "text/plain": [
       "<Figure size 432x288 with 1 Axes>"
      ]
     },
     "metadata": {
      "needs_background": "light"
     },
     "output_type": "display_data"
    }
   ],
   "source": [
    "kolmogorov()"
   ]
  },
  {
   "cell_type": "markdown",
   "metadata": {
    "colab_type": "text",
    "id": "QrSdlHPfwH5L"
   },
   "source": [
    "### Contraste o prueba  $\\chi^{2}$\n",
    "\n",
    "La prueba $\\chi^{2}$ es de bondad de ajuste. Es poco potente, por lo que permite justificar el rechazo de una hipótesis, pero proporciona escaso soporte a su aceptación. El problema de bondad de ajuste se plantea como sigue. Tenemos una muestra $X_1, X_2,...,X_n$ de una población con distribución $F_X(x)$ desconocida. Deseamos contrastar la hipótesis nula $H_0:F_X(x)=F_0(x)$, para todo $x\\in\\mathbb{R}$, donde $F_0(x)$ está completamente especificada, frente a la alternativa $H_1:F_X(x) \\neq F_0(x)$ para algún $x$.\n",
    "Para realizar el contraste, partimos el soporte de $X$ en $k$ subconjuntos o clases mutuamente excluyentes. Para cada subconjunto $i$, $i=1,...,k$, calculamos el número $f_i$ de observaciones que caen en la clase y el numero esperado de observaciones $e_i$ bajo la distribución hipotética $F_0$. El estadístico de la prueba es:\n",
    "\n",
    "$$\\chi^{2}=\\overset{k}{\\underset{i=1}{\\sum}}\\frac{(f_{i}-e_{i})^{2}}{e_{i}}$$\n",
    "\n",
    "cuya distribución asintótica es una $\\chi_{k-r-1}^{2}$, donde $r$ es el número de parámetros que se estiman a partir de las observaciones. La aproximación se considera aceptada si $\\min\\left\\{ e_{i}>5\\right\\}$. Intuitivamente, el estadístico tiende a ser pequeño bajo la hipótesis nula, y grande cuando ésta es falsa, con lo qu ese deduce inmediatamente un contraste de hipótesis. La potencia del contraste crece con el número $k$ de subconjuntos considerados.\n",
    "\n",
    "En nuestro problema de aleatoriedad, $F_0$ es la función de distribución de la uniforme en [0,1], con lo que $r=0$. Además, pueden cogerse $k$ subintervalos de [0,1] de igual longitud, con lo que $e_i=n/k$.\n"
   ]
  },
  {
   "cell_type": "code",
   "execution_count": 86,
   "metadata": {},
   "outputs": [],
   "source": [
    "def chicuadrado():\n",
    "    \n",
    "    print('Escoja el generador a probar: ')\n",
    "    print(\"Opciones\\n1.- RANDU\\n2.- Sinclair ZX81\\n3.- Numerical Recipes\\n4.-Borland C/C++\\n5.-Generador Aleatorio\\n6.-Generador Numpy\")\n",
    "    seleccion = input(\"Opcion: \")\n",
    "    generadores = { '1': randu, '2': sinclair, '3': numericalRecipes, '4': borland, '5': numerosAleatorios,'6':numpyRandom}\n",
    "    n = int(input(\"Inserte la cantidad de numeros a generar n: \"))\n",
    "    x = generadores[seleccion](n)\n",
    "    k = 20\n",
    "    fi, clases, nadaimportante = plt.hist(x, k)\n",
    "    # fi = observaciones encontradas, ei= observaciones esperadas\n",
    "    ei = np.ones_like(clases)*(n/k)\n",
    "\n",
    "    plt.plot(clases, ei, linewidth=3, color = '#FA58F4')\n",
    "    plt.title('Chi Cuadrado')\n",
    "    plt.show()\n",
    "    #print fi,clases  \n",
    "    chi2 = 0\n",
    "    ei = n/k\n",
    "    for i in fi:\n",
    "        chi2 += (i-ei)**2\n",
    "    #print chi2\n",
    "    if chi2<=31.41:\n",
    "        print ('Hipotesis aceptada. Generador UNIFORME. Estadistico x2: ',chi2)\n",
    "        print ('Nivel de significacion a: ',(0.05))\n",
    "    else:\n",
    "        print ('Hipotesis rechazada. Generador NO UNIFORME. Estadistico x2: ',chi2)\n"
   ]
  },
  {
   "cell_type": "code",
   "execution_count": 87,
   "metadata": {},
   "outputs": [
    {
     "name": "stdout",
     "output_type": "stream",
     "text": [
      "Escoja el generador a probar: \n",
      "Opciones\n",
      "1.- RANDU\n",
      "2.- Sinclair ZX81\n",
      "3.- Numerical Recipes\n",
      "4.-Borland C/C++\n",
      "5.-Generador Aleatorio\n",
      "6.-Generador Numpy\n",
      "Opcion: 5\n",
      "Inserte la cantidad de numeros a generar n: 100\n"
     ]
    },
    {
     "data": {
      "image/png": "[encoded data removed]",
      "text/plain": [
       "<Figure size 432x288 with 1 Axes>"
      ]
     },
     "metadata": {
      "needs_background": "light"
     },
     "output_type": "display_data"
    },
    {
     "name": "stdout",
     "output_type": "stream",
     "text": [
      "Hipotesis rechazada. Generador NO UNIFORME. Estadistico x2:  76.0\n"
     ]
    }
   ],
   "source": [
    "chicuadrado()"
   ]
  },
  {
   "cell_type": "markdown",
   "metadata": {
    "colab_type": "text",
    "id": "1vaayM_oCqAn"
   },
   "source": [
    "# Contraste de pares consecutivos no solapados\n",
    "\n",
    "Dada la muestra $X_1, X_2,...,X_n$, $n$ par, y un nivel de significancia $\\alpha$, el test consiste en los siguientes pasos:\n",
    "1. Dividir el intervalo $(0, 1)$ en $k$ clases disjuntas de la misma amplitud, $1/k$\n",
    "2. Categorizamos la muestra $X_1, X_2,...,X_n$ asociando a cada $X_i$ el índice de la clase a la que pertenece. Sea $Y_1, Y_2, …, Y_n$ la muestra discretizada.\n",
    "3. Agrupamos los valores de la muestra discretizada en pares consecutivos no solapados $(Y_1, Y_2),(Y_3, Y_4),...,(Y_{n-1}, Y_n)$\n",
    "4. Sea $O_{ij}$ el número de veces que aparece el par $(i,j)$. Si la hipótesis de uniformidad es cierta, entonces $O_{ij}  ~ Bi(n/2, p=(1/k^2))$. Por lo tanto, $E[O_{ij}] = E_{ij} = n/(2k^2)$\n",
    "5. Se evalúa el estadístico de contraste de Chi-cuadrado con $k^2-1$ grados de libertad. Rechazando la hipótesis si el estadístico es mayor a $\\chi^2_{k^2-1, \\alpha}$\n",
    "\n",
    "## Codigo Pares"
   ]
  },
  {
   "cell_type": "code",
   "execution_count": 88,
   "metadata": {},
   "outputs": [
    {
     "name": "stdout",
     "output_type": "stream",
     "text": [
      "Escoja el generador a probar: \n",
      "Opciones\n",
      "1.- RANDU\n",
      "2.- Sinclair ZX81\n",
      "3.- Numerical Recipes\n",
      "4.-Borland C/C++\n",
      "5.-Generador Aleatorio\n",
      "6.-Generador Numpy\n",
      "Opcion: 6\n",
      "Inserte la cantidad de numeros a generar n: 100\n",
      "T :  50.0\n"
     ]
    },
    {
     "data": {
      "image/png": "[encoded data removed]",
      "text/plain": [
       "<Figure size 432x288 with 1 Axes>"
      ]
     },
     "metadata": {
      "needs_background": "light"
     },
     "output_type": "display_data"
    }
   ],
   "source": [
    "def generarNUmerosYi(k,n,semilla):\n",
    "    xi = semilla\n",
    "    numeros = []\n",
    "    for i in range(n):\n",
    "        ui,xi = congruencial(xi)\n",
    "        num = int(ui*k)     \n",
    "        numeros.append(num)\n",
    "        \n",
    "    return numeros\n",
    "\n",
    "\n",
    "def parejas(num,n):\n",
    "    \n",
    "    parejas = []\n",
    "    n = int(n/2)\n",
    "    for i in range(n):\n",
    "        pareja = [num[i*2],num[i*2+1]]\n",
    "        parejas.append(pareja)\n",
    "    return parejas\n",
    "\n",
    "def Oij(parejas,k):\n",
    "    #n = len(parejas)\n",
    "    #n = n*2\n",
    "    n =k\n",
    "    coni = []\n",
    "    for i in range(n):\n",
    "        conj = []\n",
    "        for j in range(n):            \n",
    "            cont = 0;\n",
    "            for k in range(len(parejas)):                \n",
    "                if([i,j] == parejas[k]):\n",
    "                      cont=cont+1\n",
    "            conj.append(cont)\n",
    "        coni.append(conj)\n",
    "    return coni\n",
    "            \n",
    "def T(oj,k,n):\n",
    "    Eij = n/(2*(k**2))\n",
    "    T = 0\n",
    "    for i in range(k):\n",
    "        for j in range(k):\n",
    "            T = ((oij[i][j]-Eij)**2)/(Eij)+T\n",
    "            \n",
    "    return T\n",
    "\n",
    "def mostrar(aleatorios,color):\n",
    "    n, bins, patches = plt.hist(aleatorios, normed=1, facecolor=color)\n",
    "    plt.title('Pares consecutivos no solapados')\n",
    "    plt.show()\n",
    "    \n",
    "print('Escoja el generador a probar: ')\n",
    "print(\"Opciones\\n1.- RANDU\\n2.- Sinclair ZX81\\n3.- Numerical Recipes\\n4.-Borland C/C++\\n5.-Generador Aleatorio\\n6.-Generador Numpy\")\n",
    "seleccion = input(\"Opcion: \")\n",
    "generadores = { '1': randu, '2': sinclair, '3': numericalRecipes, '4': borland, '5': numerosAleatorios,'6':numpyRandom}\n",
    "n = int(input(\"Inserte la cantidad de numeros a generar n: \"))\n",
    "x = generadores[seleccion](n)\n",
    "\n",
    "#num = generarNUmerosYi(k,n,semilla) #extraemos los npumeros Yi necesarios para nuestra funciómn\n",
    "\n",
    "parejas = parejas(x,n) # hallamos las parejas \n",
    "\n",
    "oij = Oij(parejas,k)\n",
    "\n",
    "T = T(oij,k,n)\n",
    "print('T : ',T )\n",
    "\n",
    "mostrar(num, 'blue')"
   ]
  },
  {
   "cell_type": "markdown",
   "metadata": {
    "colab_type": "text",
    "id": "3NvEBWgHwH5M"
   },
   "source": [
    "# Constraste o prueba de rachas\n",
    "\n",
    "Dada la sucesión de observaciones $X_1, X_2,...,X_n$, construimos la sucesión de simbolos binarios definida mediante 1 si $X_i<X_{i+1}$, 0 si $X_i>X_{i+1}$. Definimos  racha creciente (decreciente) de longitud $l$ a un grupo seguido de $l$ números 1 (ó 0). Contabilizamos el número de rachas. Sabemos que su distribución asintótica, bajo la hipótesis nula de aleatoriedad, es:\n",
    "\n",
    "$$N\\left(\\frac{2n-1}{3},\\frac{16n-29}{90}\\right)$$\n",
    "\n",
    "Intuitivamente, rechazamos la aleatoriedad con un número muy pequeño o muy grande de rachas. De ahí se obtiene inmediatamente la prueba.\n",
    "\n",
    "El estadístico de contraste sería:\n",
    "\n",
    "$$Z=\\frac{R-\\frac{2n-1}{3}}{\\sqrt{\\frac{16n-29}{90}}}$$\n",
    "\n",
    "que sigue una distribución $N(0,1)$.\n",
    "\n",
    "Para un nivel de significancia $\\alpha$, se rechaza la hipótesis de aleatoriedad si $|Z|>Z_{\\alpha/2}$\n",
    "\n",
    "## Codigo rachas"
   ]
  },
  {
   "cell_type": "code",
   "execution_count": 89,
   "metadata": {},
   "outputs": [],
   "source": [
    "def rachas():\n",
    "    \n",
    "    print('Escoja el generador a probar: ')\n",
    "    print(\"Opciones\\n1.- RANDU\\n2.- Sinclair ZX81\\n3.- Numerical Recipes\\n4.-Borland C/C++\\n5.-Generador Aleatorio\\n6.-Generador Numpy\")\n",
    "    seleccion = input(\"Opcion: \")\n",
    "    generadores = { '1': randu, '2': sinclair, '3': numericalRecipes, '4': borland, '5': numerosAleatorios,'6':numpyRandom}\n",
    "    n = int(input(\"Inserte la cantidad de numeros a generar n: \"))\n",
    "    x = generadores[seleccion](n)\n",
    "    \n",
    "    #Test de rachas\n",
    "    creciente = True\n",
    "    rachasCrecientes = 0\n",
    "    rachasDecrecientes = 0\n",
    "    #x = [1,2,5,3,4,6,2,1,10,11,9,8,7,6] Distribucion de prueba\n",
    "    for i in range(len(x)):\n",
    "        if(i == 0):\n",
    "            if(x[i]<x[i+1]):\n",
    "                creciente = True\n",
    "                rachasCrecientes += 1\n",
    "            else:\n",
    "                creciente = False\n",
    "                rachasDecrecientes += 1\n",
    "        else:\n",
    "            if(creciente == True):\n",
    "                if(x[i]<x[i-1]):\n",
    "                    rachasDecrecientes += 1\n",
    "                    creciente = False\n",
    "            else:\n",
    "                if(x[i]>x[i-1]):\n",
    "                    rachasCrecientes += 1\n",
    "                    creciente = True\n",
    "    # R numero de rachas\n",
    "    R = rachasCrecientes + rachasDecrecientes\n",
    "    print ('Rachas Crecientes: ',rachasCrecientes)\n",
    "    print ('Rachas Decrecientes: ',rachasDecrecientes)\n",
    "    print ('Total de Rachas R: ',R)\n",
    "    \n",
    "    #Z estadistico de contraste\n",
    "    Z = (R-(2*n-1)/3)/((16*n-29)/90)**0.5\n",
    "    #print Z\n",
    "    print ('Nivel de confianza a: ',(0.05))\n",
    "    n, bins, patches = plt.hist(x, normed=1, facecolor='blue')\n",
    "    plt.show()\n",
    "    if(abs(Z) < 0.50978):\n",
    "        print ('El generador probado es ALEATORIO. Hipotesis aceptada. Z: ',Z)\n",
    "    else:\n",
    "        print ('El generador probado es NO ALEATORIO. Hipotesis rechazada. Z: ',Z)\n",
    "                    \n"
   ]
  },
  {
   "cell_type": "markdown",
   "metadata": {},
   "source": [
    "## Test Rachas"
   ]
  },
  {
   "cell_type": "code",
   "execution_count": 90,
   "metadata": {},
   "outputs": [
    {
     "name": "stdout",
     "output_type": "stream",
     "text": [
      "Escoja el generador a probar: \n",
      "Opciones\n",
      "1.- RANDU\n",
      "2.- Sinclair ZX81\n",
      "3.- Numerical Recipes\n",
      "4.-Borland C/C++\n",
      "5.-Generador Aleatorio\n",
      "6.-Generador Numpy\n",
      "Opcion: 4\n",
      "Inserte la cantidad de numeros a generar n: 10\n",
      "70804\n",
      "Rachas Crecientes:  3\n",
      "Rachas Decrecientes:  3\n",
      "Total de Rachas R:  6\n",
      "Nivel de confianza a:  0.05\n"
     ]
    },
    {
     "data": {
      "image/png": "[encoded data removed]",
      "text/plain": [
       "<Figure size 432x288 with 1 Axes>"
      ]
     },
     "metadata": {
      "needs_background": "light"
     },
     "output_type": "display_data"
    },
    {
     "name": "stdout",
     "output_type": "stream",
     "text": [
      "El generador probado es ALEATORIO. Hipotesis aceptada. Z:  -0.27628948199776854\n"
     ]
    }
   ],
   "source": [
    "rachas()"
   ]
  },
  {
   "cell_type": "markdown",
   "metadata": {},
   "source": [
    "# Referencias\n",
    "\n",
    "[Ríos, Ríos & Martín, 2000] David Ríos, Sixto Ríos, Jacinto Martín. Simulación, Métodos y aplicaciones. Editorial Alfaomega, 2000."
   ]
  },
  {
   "cell_type": "code",
   "execution_count": null,
   "metadata": {},
   "outputs": [],
   "source": []
  }
 ],
 "metadata": {
  "colab": {
   "collapsed_sections": [],
   "name": "2. Números Aleatorios.ipynb",
   "provenance": [],
   "version": "0.3.2"
  },
  "kernelspec": {
   "display_name": "Python 3",
   "language": "python",
   "name": "python3"
  },
  "language_info": {
   "codemirror_mode": {
    "name": "ipython",
    "version": 3
   },
   "file_extension": ".py",
   "mimetype": "text/x-python",
   "name": "python",
   "nbconvert_exporter": "python",
   "pygments_lexer": "ipython3",
   "version": "3.7.3"
  }
 },
 "nbformat": 4,
 "nbformat_minor": 1
}
