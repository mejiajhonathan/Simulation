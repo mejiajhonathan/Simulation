{
 "cells": [
  {
   "cell_type": "markdown",
   "metadata": {},
   "source": [
    "## 1er Parcial - Simulación Computacional 2019-I\n",
    "### JHONATHAN MEJIA-160003525"
   ]
  },
  {
   "cell_type": "markdown",
   "metadata": {},
   "source": [
    "**1)** Para los siguientes generadores congruenciales mixtos encuentre $u_1,...,u_{100}$, el tamaño del ciclo (si lo tiene) y calcule el estadístico $\\chi^2$\n",
    "\n",
    "**(a)** $x_0=3, x_n = (5x_{n-1}+7) \\mod 200$"
   ]
  },
  {
   "cell_type": "code",
   "execution_count": 124,
   "metadata": {},
   "outputs": [
    {
     "name": "stdout",
     "output_type": "stream",
     "text": [
      "1.a\n",
      "\n",
      "x1 = 0.11\n",
      "x2 = 0.585\n",
      "x3 = 0.96\n",
      "x4 = 0.835\n",
      "x5 = 0.21\n",
      "x6 = 0.085\n",
      "x7 = 0.46\n",
      "x8 = 0.335\n",
      "x9 = 0.71\n",
      "x10 = 0.585\n",
      "x11 = 0.96\n",
      "x12 = 0.835\n",
      "x13 = 0.21\n",
      "x14 = 0.085\n",
      "x15 = 0.46\n",
      "x16 = 0.335\n",
      "x17 = 0.71\n",
      "x18 = 0.585\n",
      "x19 = 0.96\n",
      "x20 = 0.835\n",
      "x21 = 0.21\n",
      "x22 = 0.085\n",
      "x23 = 0.46\n",
      "x24 = 0.335\n",
      "x25 = 0.71\n",
      "x26 = 0.585\n",
      "x27 = 0.96\n",
      "x28 = 0.835\n",
      "x29 = 0.21\n",
      "x30 = 0.085\n",
      "x31 = 0.46\n",
      "x32 = 0.335\n",
      "x33 = 0.71\n",
      "x34 = 0.585\n",
      "x35 = 0.96\n",
      "x36 = 0.835\n",
      "x37 = 0.21\n",
      "x38 = 0.085\n",
      "x39 = 0.46\n",
      "x40 = 0.335\n",
      "x41 = 0.71\n",
      "x42 = 0.585\n",
      "x43 = 0.96\n",
      "x44 = 0.835\n",
      "x45 = 0.21\n",
      "x46 = 0.085\n",
      "x47 = 0.46\n",
      "x48 = 0.335\n",
      "x49 = 0.71\n",
      "x50 = 0.585\n",
      "x51 = 0.96\n",
      "x52 = 0.835\n",
      "x53 = 0.21\n",
      "x54 = 0.085\n",
      "x55 = 0.46\n",
      "x56 = 0.335\n",
      "x57 = 0.71\n",
      "x58 = 0.585\n",
      "x59 = 0.96\n",
      "x60 = 0.835\n",
      "x61 = 0.21\n",
      "x62 = 0.085\n",
      "x63 = 0.46\n",
      "x64 = 0.335\n",
      "x65 = 0.71\n",
      "x66 = 0.585\n",
      "x67 = 0.96\n",
      "x68 = 0.835\n",
      "x69 = 0.21\n",
      "x70 = 0.085\n",
      "x71 = 0.46\n",
      "x72 = 0.335\n",
      "x73 = 0.71\n",
      "x74 = 0.585\n",
      "x75 = 0.96\n",
      "x76 = 0.835\n",
      "x77 = 0.21\n",
      "x78 = 0.085\n",
      "x79 = 0.46\n",
      "x80 = 0.335\n",
      "x81 = 0.71\n",
      "x82 = 0.585\n",
      "x83 = 0.96\n",
      "x84 = 0.835\n",
      "x85 = 0.21\n",
      "x86 = 0.085\n",
      "x87 = 0.46\n",
      "x88 = 0.335\n",
      "x89 = 0.71\n",
      "x90 = 0.585\n",
      "x91 = 0.96\n",
      "x92 = 0.835\n",
      "x93 = 0.21\n",
      "x94 = 0.085\n",
      "x95 = 0.46\n",
      "x96 = 0.335\n",
      "x97 = 0.71\n",
      "x98 = 0.585\n",
      "x99 = 0.96\n",
      "x100 = 0.835\n",
      "El periodo del ejemplo del Congruencial Mixto es = 8\n"
     ]
    },
    {
     "data": {
      "image/png": "[encoded data removed]",
      "text/plain": [
       "<Figure size 432x288 with 1 Axes>"
      ]
     },
     "metadata": {
      "needs_background": "light"
     },
     "output_type": "display_data"
    },
    {
     "name": "stdout",
     "output_type": "stream",
     "text": [
      "El estadistico de Chi-cuadrado para este generador es:  252.0\n"
     ]
    }
   ],
   "source": [
    "def gene1(xo,a,c,m,n):\n",
    "    xn=xo\n",
    "    ui=list()\n",
    "    for i in range(n):\n",
    "        xn = ((a*xn)+c)%m\n",
    "        ui.append(xn/m)\n",
    "    return ui\n",
    "\n",
    "def imprimir(lista):\n",
    "    for j in range (len(lista)):\n",
    "        print(\"x{} = {}\".format(j+1,lista[j]))\n",
    "\n",
    "def generadorciclos(lista):    \n",
    "    for i in range(len(lista)):\n",
    "        for j in range(i+1, len(lista)):\n",
    "            if lista[i]==lista[j]:\n",
    "                return str(j-i)\n",
    "    return \"No tiene ciclo\"\n",
    "\n",
    "def chicuadrado(lista1):\n",
    "    \n",
    "    n = 100\n",
    "    x = lista1\n",
    "    k = 10\n",
    "    fi, clases, nadaimportante = plt.hist(x, k)\n",
    "    # fi = observaciones encontradas, ei= observaciones esperadas\n",
    "    ei = np.ones_like(clases)*(n/k)\n",
    "    plt.plot(clases, ei, linewidth=3, color = '#FA58F4')\n",
    "    plt.show()\n",
    "    chi2 = 0\n",
    "    ei = n/k\n",
    "    for i in fi:\n",
    "        chi2 += (i-ei)**2\n",
    "    print (\"El estadistico de Chi-cuadrado para este generador es: \", chi2)\n",
    "    \n",
    "        \n",
    "print(\"1.a\\n\")\n",
    "lista1 = gene1(3,5,7,200,100)\n",
    "imprimir(lista1)\n",
    "print(\"El periodo del ejemplo del Congruencial Mixto es = {}\".format(generadorciclos(lista1)))\n",
    "chicuadrado(lista1)\n"
   ]
  },
  {
   "cell_type": "markdown",
   "metadata": {},
   "source": [
    "**(b)** $x_0=123, x_n = (13x_{n-1}+3) \\mod 16$"
   ]
  },
  {
   "cell_type": "code",
   "execution_count": 126,
   "metadata": {},
   "outputs": [
    {
     "name": "stdout",
     "output_type": "stream",
     "text": [
      "1.b\n",
      "\n",
      "x1 = 0.125\n",
      "x2 = 0.8125\n",
      "x3 = 0.75\n",
      "x4 = 0.9375\n",
      "x5 = 0.375\n",
      "x6 = 0.0625\n",
      "x7 = 0.0\n",
      "x8 = 0.1875\n",
      "x9 = 0.625\n",
      "x10 = 0.3125\n",
      "x11 = 0.25\n",
      "x12 = 0.4375\n",
      "x13 = 0.875\n",
      "x14 = 0.5625\n",
      "x15 = 0.5\n",
      "x16 = 0.6875\n",
      "x17 = 0.125\n",
      "x18 = 0.8125\n",
      "x19 = 0.75\n",
      "x20 = 0.9375\n",
      "x21 = 0.375\n",
      "x22 = 0.0625\n",
      "x23 = 0.0\n",
      "x24 = 0.1875\n",
      "x25 = 0.625\n",
      "x26 = 0.3125\n",
      "x27 = 0.25\n",
      "x28 = 0.4375\n",
      "x29 = 0.875\n",
      "x30 = 0.5625\n",
      "x31 = 0.5\n",
      "x32 = 0.6875\n",
      "x33 = 0.125\n",
      "x34 = 0.8125\n",
      "x35 = 0.75\n",
      "x36 = 0.9375\n",
      "x37 = 0.375\n",
      "x38 = 0.0625\n",
      "x39 = 0.0\n",
      "x40 = 0.1875\n",
      "x41 = 0.625\n",
      "x42 = 0.3125\n",
      "x43 = 0.25\n",
      "x44 = 0.4375\n",
      "x45 = 0.875\n",
      "x46 = 0.5625\n",
      "x47 = 0.5\n",
      "x48 = 0.6875\n",
      "x49 = 0.125\n",
      "x50 = 0.8125\n",
      "x51 = 0.75\n",
      "x52 = 0.9375\n",
      "x53 = 0.375\n",
      "x54 = 0.0625\n",
      "x55 = 0.0\n",
      "x56 = 0.1875\n",
      "x57 = 0.625\n",
      "x58 = 0.3125\n",
      "x59 = 0.25\n",
      "x60 = 0.4375\n",
      "x61 = 0.875\n",
      "x62 = 0.5625\n",
      "x63 = 0.5\n",
      "x64 = 0.6875\n",
      "x65 = 0.125\n",
      "x66 = 0.8125\n",
      "x67 = 0.75\n",
      "x68 = 0.9375\n",
      "x69 = 0.375\n",
      "x70 = 0.0625\n",
      "x71 = 0.0\n",
      "x72 = 0.1875\n",
      "x73 = 0.625\n",
      "x74 = 0.3125\n",
      "x75 = 0.25\n",
      "x76 = 0.4375\n",
      "x77 = 0.875\n",
      "x78 = 0.5625\n",
      "x79 = 0.5\n",
      "x80 = 0.6875\n",
      "x81 = 0.125\n",
      "x82 = 0.8125\n",
      "x83 = 0.75\n",
      "x84 = 0.9375\n",
      "x85 = 0.375\n",
      "x86 = 0.0625\n",
      "x87 = 0.0\n",
      "x88 = 0.1875\n",
      "x89 = 0.625\n",
      "x90 = 0.3125\n",
      "x91 = 0.25\n",
      "x92 = 0.4375\n",
      "x93 = 0.875\n",
      "x94 = 0.5625\n",
      "x95 = 0.5\n",
      "x96 = 0.6875\n",
      "x97 = 0.125\n",
      "x98 = 0.8125\n",
      "x99 = 0.75\n",
      "x100 = 0.9375\n",
      "El periodo del ejemplo del Congruencial Mixto es = 16\n"
     ]
    },
    {
     "data": {
      "image/png": "[encoded data removed]",
      "text/plain": [
       "<Figure size 432x288 with 1 Axes>"
      ]
     },
     "metadata": {
      "needs_background": "light"
     },
     "output_type": "display_data"
    },
    {
     "name": "stdout",
     "output_type": "stream",
     "text": [
      "El estadistico de Chi-cuadrado para este generador es:  98.0\n"
     ]
    }
   ],
   "source": [
    "def gene2(xo,a,c,m,n):\n",
    "    xn=xo\n",
    "    ui=list()\n",
    "    for i in range(n):\n",
    "        xn = ((a*xn)+c)%m\n",
    "        ui.append(xn/m)\n",
    "    return ui\n",
    "\n",
    "def imprimir(lista):\n",
    "    for j in range (len(lista)):\n",
    "        print(\"x{} = {}\".format(j+1,lista[j]))\n",
    "\n",
    "def generadorciclos(lista):    \n",
    "    for i in range(len(lista)):\n",
    "        for j in range(i+1, len(lista)):\n",
    "            if lista[i]==lista[j]:\n",
    "                return str(j-i)\n",
    "    return \"No tiene ciclo\"\n",
    "\n",
    "def chicuadrado(lista2):\n",
    "    \n",
    "    n = 100\n",
    "    x = lista2\n",
    "    k = 10\n",
    "    fi, clases, nadaimportante = plt.hist(x, k)\n",
    "    # fi = observaciones encontradas, ei= observaciones esperadas\n",
    "    ei = np.ones_like(clases)*(n/k)\n",
    "    plt.plot(clases, ei, linewidth=3, color = '#FA58F4')\n",
    "    plt.show()\n",
    "    chi2 = 0\n",
    "    ei = n/k\n",
    "    for i in fi:\n",
    "        chi2 += (i-ei)**2\n",
    "    print (\"El estadistico de Chi-cuadrado para este generador es: \", chi2)\n",
    "        \n",
    "print(\"1.b\\n\")\n",
    "lista2 = gene2(123,13,3,16,100)\n",
    "imprimir(lista2)\n",
    "print(\"El periodo del ejemplo del Congruencial Mixto es = {}\".format(generadorciclos(lista2)))\n",
    "chicuadrado(lista2)"
   ]
  },
  {
   "cell_type": "markdown",
   "metadata": {},
   "source": [
    "**(c)** $x_0=7, x_n = (5x_{n-1}+3) \\mod 33$"
   ]
  },
  {
   "cell_type": "code",
   "execution_count": 80,
   "metadata": {},
   "outputs": [
    {
     "name": "stdout",
     "output_type": "stream",
     "text": [
      "1.c\n",
      "\n",
      "x1 = 0.15151515151515152\n",
      "x2 = 0.8484848484848485\n",
      "x3 = 0.3333333333333333\n",
      "x4 = 0.7575757575757576\n",
      "x5 = 0.8787878787878788\n",
      "x6 = 0.48484848484848486\n",
      "x7 = 0.5151515151515151\n",
      "x8 = 0.6666666666666666\n",
      "x9 = 0.42424242424242425\n",
      "x10 = 0.21212121212121213\n",
      "x11 = 0.15151515151515152\n",
      "x12 = 0.8484848484848485\n",
      "x13 = 0.3333333333333333\n",
      "x14 = 0.7575757575757576\n",
      "x15 = 0.8787878787878788\n",
      "x16 = 0.48484848484848486\n",
      "x17 = 0.5151515151515151\n",
      "x18 = 0.6666666666666666\n",
      "x19 = 0.42424242424242425\n",
      "x20 = 0.21212121212121213\n",
      "x21 = 0.15151515151515152\n",
      "x22 = 0.8484848484848485\n",
      "x23 = 0.3333333333333333\n",
      "x24 = 0.7575757575757576\n",
      "x25 = 0.8787878787878788\n",
      "x26 = 0.48484848484848486\n",
      "x27 = 0.5151515151515151\n",
      "x28 = 0.6666666666666666\n",
      "x29 = 0.42424242424242425\n",
      "x30 = 0.21212121212121213\n",
      "x31 = 0.15151515151515152\n",
      "x32 = 0.8484848484848485\n",
      "x33 = 0.3333333333333333\n",
      "x34 = 0.7575757575757576\n",
      "x35 = 0.8787878787878788\n",
      "x36 = 0.48484848484848486\n",
      "x37 = 0.5151515151515151\n",
      "x38 = 0.6666666666666666\n",
      "x39 = 0.42424242424242425\n",
      "x40 = 0.21212121212121213\n",
      "x41 = 0.15151515151515152\n",
      "x42 = 0.8484848484848485\n",
      "x43 = 0.3333333333333333\n",
      "x44 = 0.7575757575757576\n",
      "x45 = 0.8787878787878788\n",
      "x46 = 0.48484848484848486\n",
      "x47 = 0.5151515151515151\n",
      "x48 = 0.6666666666666666\n",
      "x49 = 0.42424242424242425\n",
      "x50 = 0.21212121212121213\n",
      "x51 = 0.15151515151515152\n",
      "x52 = 0.8484848484848485\n",
      "x53 = 0.3333333333333333\n",
      "x54 = 0.7575757575757576\n",
      "x55 = 0.8787878787878788\n",
      "x56 = 0.48484848484848486\n",
      "x57 = 0.5151515151515151\n",
      "x58 = 0.6666666666666666\n",
      "x59 = 0.42424242424242425\n",
      "x60 = 0.21212121212121213\n",
      "x61 = 0.15151515151515152\n",
      "x62 = 0.8484848484848485\n",
      "x63 = 0.3333333333333333\n",
      "x64 = 0.7575757575757576\n",
      "x65 = 0.8787878787878788\n",
      "x66 = 0.48484848484848486\n",
      "x67 = 0.5151515151515151\n",
      "x68 = 0.6666666666666666\n",
      "x69 = 0.42424242424242425\n",
      "x70 = 0.21212121212121213\n",
      "x71 = 0.15151515151515152\n",
      "x72 = 0.8484848484848485\n",
      "x73 = 0.3333333333333333\n",
      "x74 = 0.7575757575757576\n",
      "x75 = 0.8787878787878788\n",
      "x76 = 0.48484848484848486\n",
      "x77 = 0.5151515151515151\n",
      "x78 = 0.6666666666666666\n",
      "x79 = 0.42424242424242425\n",
      "x80 = 0.21212121212121213\n",
      "x81 = 0.15151515151515152\n",
      "x82 = 0.8484848484848485\n",
      "x83 = 0.3333333333333333\n",
      "x84 = 0.7575757575757576\n",
      "x85 = 0.8787878787878788\n",
      "x86 = 0.48484848484848486\n",
      "x87 = 0.5151515151515151\n",
      "x88 = 0.6666666666666666\n",
      "x89 = 0.42424242424242425\n",
      "x90 = 0.21212121212121213\n",
      "x91 = 0.15151515151515152\n",
      "x92 = 0.8484848484848485\n",
      "x93 = 0.3333333333333333\n",
      "x94 = 0.7575757575757576\n",
      "x95 = 0.8787878787878788\n",
      "x96 = 0.48484848484848486\n",
      "x97 = 0.5151515151515151\n",
      "x98 = 0.6666666666666666\n",
      "x99 = 0.42424242424242425\n",
      "x100 = 0.21212121212121213\n",
      "El periodo del ejemplo del Congruencial Mixto es = 10\n"
     ]
    },
    {
     "data": {
      "image/png": "[encoded data removed]",
      "text/plain": [
       "<Figure size 432x288 with 1 Axes>"
      ]
     },
     "metadata": {
      "needs_background": "light"
     },
     "output_type": "display_data"
    },
    {
     "name": "stdout",
     "output_type": "stream",
     "text": [
      "El estadistico de Chi-cuadrado para este generador es:  400.0\n"
     ]
    }
   ],
   "source": [
    "def gene3(xo,a,c,m,n):\n",
    "    xn=xo\n",
    "    ui=list()\n",
    "    for i in range(n):\n",
    "        xn = ((a*xn)+c)%m\n",
    "        ui.append(xn/m)\n",
    "    return ui\n",
    "\n",
    "def imprimir(lista):\n",
    "    for j in range (len(lista)):\n",
    "        print(\"x{} = {}\".format(j+1,lista[j]))\n",
    "\n",
    "def generadorciclos(lista):    \n",
    "    for i in range(len(lista)):\n",
    "        for j in range(i+1, len(lista)):\n",
    "            if lista[i]==lista[j]:\n",
    "                return str(j-i)\n",
    "    return \"No tiene ciclo\"\n",
    "\n",
    "def chicuadrado(lista3):\n",
    "    \n",
    "    n = 100\n",
    "    x = lista3\n",
    "    k = 10\n",
    "    fi, clases, nadaimportante = plt.hist(x, k)\n",
    "    # fi = observaciones encontradas, ei= observaciones esperadas\n",
    "    ei = np.ones_like(clases)*(n/k)\n",
    "    plt.plot(clases, ei, linewidth=3, color = '#FA58F4')\n",
    "    plt.show()\n",
    "    chi2 = 0\n",
    "    ei = n/k\n",
    "    for i in fi:\n",
    "        chi2 += (i-ei)**2\n",
    "    print (\"El estadistico de Chi-cuadrado para este generador es: \", chi2)\n",
    "        \n",
    "print(\"1.c\\n\")\n",
    "lista3 = gene2(7,5,3,33,100)\n",
    "imprimir(lista3)\n",
    "print(\"El periodo del ejemplo del Congruencial Mixto es = {}\".format(generadorciclos(lista3)))\n",
    "chicuadrado(lista3)"
   ]
  },
  {
   "cell_type": "markdown",
   "metadata": {},
   "source": [
    "**2)** Para las siguientes integrales, use simulación con el generado congruencial mixto $x_0=6789, x_n = (25214903917 x_{n-1}+11) \\mod 2^{48}-1$ para aproximar el valor de las integrales para $N=100, 1000, 10000$, y compare su estimación con el valor real calculando el error relativo porcentual:\n",
    "\n",
    "**(a)** $\\int_{0}^{1}e ^{sin(x)}dx$"
   ]
  },
  {
   "cell_type": "code",
   "execution_count": 2,
   "metadata": {},
   "outputs": [
    {
     "data": {
      "image/png": "[encoded data removed]",
      "text/latex": [
       "$$\\int_{0}^{1} e^{\\sin{\\left (x \\right )}}\\, dx$$"
      ],
      "text/plain": [
       "  1           \n",
       "  /           \n",
       " |            \n",
       " |   sin(x)   \n",
       " |  e       dx\n",
       " |            \n",
       "/             \n",
       "0             "
      ]
     },
     "execution_count": 2,
     "metadata": {},
     "output_type": "execute_result"
    }
   ],
   "source": [
    "from sympy import *\n",
    "init_printing(use_unicode=False, wrap_line=False, no_global=True)\n",
    "x = Symbol('x')\n",
    "e = integrate(exp(sin(x)), (x,0,1))\n",
    "e\n"
   ]
  },
  {
   "cell_type": "code",
   "execution_count": 128,
   "metadata": {},
   "outputs": [
    {
     "data": {
      "image/png": "[encoded data removed]",
      "text/latex": [
       "$$1.63186855261561$$"
      ],
      "text/plain": [
       "1.63186855261561"
      ]
     },
     "execution_count": 128,
     "metadata": {},
     "output_type": "execute_result"
    }
   ],
   "source": [
    "e.as_sum(100, method=\"midpoint\").n()"
   ]
  },
  {
   "cell_type": "code",
   "execution_count": 129,
   "metadata": {},
   "outputs": [
    {
     "name": "stdout",
     "output_type": "stream",
     "text": [
      "a. \n",
      "\n",
      "Aproximación método MonteCarlo :  1.5655187208990082 con N= 100\n",
      "Respuesta exacta ≈ 1.6318685526\n",
      "Error= 0.06634983170099185\n",
      "\n",
      "Aproximación método MonteCarlo :  1.6255006882031207 con N= 1000\n",
      "Respuesta exacta ≈ 1.6318685526\n",
      "Error= 0.006367864396879419\n",
      "\n",
      "Aproximación método MonteCarlo :  1.6354946577524687 con N= 10000\n",
      "Respuesta exacta ≈ 1.6318685526\n",
      "Error= 0.0036261051524686394\n",
      "\n"
     ]
    }
   ],
   "source": [
    "import math\n",
    "import time\n",
    "from random import random\n",
    "\n",
    "def generador1(xo,a,c,m,n):\n",
    "    xn=xo\n",
    "    ui=list()\n",
    "    for i in range(n):\n",
    "        xn = (a*xn+c)%m\n",
    "        ui.append(xn/m)\n",
    "    return ui\n",
    "\n",
    "def integralA(valorN):\n",
    "    a = 0\n",
    "    b = 1\n",
    "    suma = 0\n",
    "    n = valorN\n",
    "    xo = 6789\n",
    "    ui = generador1(xo, 25214903917, 11, (2**48)-1, n)\n",
    "    for i in range(n):\n",
    "        xi = ui[i]*(b-a)+a\n",
    "        y = (b-a)*math.exp(math.sin(xi))\n",
    "        suma+=y\n",
    "    print(\"Aproximación método MonteCarlo : \",suma/n, \"con N=\", valorN)\n",
    "    \n",
    "    print(\"Respuesta exacta ≈\", 1.6318685526)\n",
    "    \n",
    "    print(\"Error=\",np.abs((suma/n)-1.6318685526))\n",
    "    print()\n",
    "    \n",
    "\n",
    "print(\"a. \\n\")    \n",
    "integralA(100)\n",
    "integralA(1000)\n",
    "integralA(10000)"
   ]
  },
  {
   "cell_type": "markdown",
   "metadata": {},
   "source": [
    "**(b)** $\\int_{-3}^{3}e^{sin(x)-x^{3}}dx$"
   ]
  },
  {
   "cell_type": "code",
   "execution_count": 130,
   "metadata": {},
   "outputs": [
    {
     "name": "stdout",
     "output_type": "stream",
     "text": [
      "b. \n",
      "\n",
      "Aproximación método MonteCarlo :  18078980568.25854 con N= 100\n",
      "Respuesta exacta ≈ 16318000000.0\n",
      "Error= 1760980568.258541\n",
      "\n",
      "Aproximación método MonteCarlo :  24099669464.842575 con N= 1000\n",
      "Respuesta exacta ≈ 16318000000.0\n",
      "Error= 7781669464.842575\n",
      "\n",
      "Aproximación método MonteCarlo :  20676235342.698166 con N= 10000\n",
      "Respuesta exacta ≈ 16318000000.0\n",
      "Error= 4358235342.698166\n",
      "\n"
     ]
    }
   ],
   "source": [
    "def integralB(valorN):\n",
    "    a = -3\n",
    "    b = 3\n",
    "    suma = 0\n",
    "    n = valorN\n",
    "    xo = 6789\n",
    "    ui = generador1(xo, 25214903917, 11, (2**48)-1, n)\n",
    "    for i in range(n):\n",
    "        xi = ui[i]*(b-a)+a\n",
    "        y = (b-a)*math.exp((math.sin(xi)-(xi**3)))\n",
    "        suma+=y\n",
    "    print(\"Aproximación método MonteCarlo : \",suma/n, \"con N=\", valorN)\n",
    "    print(\"Respuesta exacta ≈\", (1.6318*(10**10)))\n",
    "    print(\"Error=\",np.abs((suma/n)-((1.6318*(10**10)))))\n",
    "    print()\n",
    "\n",
    "print(\"b. \\n\")    \n",
    "integralB(100)\n",
    "integralB(1000)\n",
    "integralB(10000)"
   ]
  },
  {
   "cell_type": "markdown",
   "metadata": {},
   "source": [
    "**(c)** $\\int_{0}^{1}(\\sin(1+x^{2}))^{3/2}dx$"
   ]
  },
  {
   "cell_type": "code",
   "execution_count": 131,
   "metadata": {},
   "outputs": [
    {
     "name": "stdout",
     "output_type": "stream",
     "text": [
      "c. \n",
      "\n",
      "Aproximación método MonteCarlo :  0.8803745810129965 con N= 100\n",
      "Respuesta exacta ≈ 0.896282\n",
      "Error= 0.01590741898700354\n",
      "\n",
      "Aproximación método MonteCarlo :  0.8934084491806973 con N= 1000\n",
      "Respuesta exacta ≈ 0.896282\n",
      "Error= 0.0028735508193027393\n",
      "\n",
      "Aproximación método MonteCarlo :  0.8968568735719155 con N= 10000\n",
      "Respuesta exacta ≈ 0.896282\n",
      "Error= 0.0005748735719154352\n",
      "\n"
     ]
    }
   ],
   "source": [
    "def integralC(valorN):\n",
    "    a = 0\n",
    "    b = 1\n",
    "    suma = 0\n",
    "    n = valorN\n",
    "    xo = 6789\n",
    "    ui = generador1(xo, 25214903917, 11, (2**48)-1, n)\n",
    "    for i in range(n):\n",
    "        xi = ui[i]*(b-a)+a\n",
    "        y = (b-a)*(math.sin(1+(xi**2)))**(3/2)\n",
    "        suma+=y\n",
    "    print(\"Aproximación método MonteCarlo : \",suma/n, \"con N=\", valorN)\n",
    "    print(\"Respuesta exacta ≈\", 0.896282)\n",
    "    print(\"Error=\",np.abs((suma/n)-0.896282))\n",
    "    print()\n",
    "\n",
    "print(\"c. \\n\")    \n",
    "integralC(100)\n",
    "integralC(1000)\n",
    "integralC(10000)"
   ]
  },
  {
   "cell_type": "markdown",
   "metadata": {},
   "source": [
    "**3)** Dados los siguientes valores de la distribución de probabilidad discreta de la variable aleatoria $X$ de un dado de 8 lados: $X = {1,2,3,4,5,6,7,8}$, $p(X) = {0.11,0.3,0.12,0.2,0.05,0.07,0.05,0.10}$, ¿Qué valores retornaría el generador de variables aleatorias por el método de la inversión si los números aleatorios generados son: $U = {0.1573, 0.9454, 0.8211, 0.6996, 0.0318, 0.1708, 0.6865, 0.9102, 0.2579, 0.6344}$?"
   ]
  },
  {
   "cell_type": "code",
   "execution_count": 132,
   "metadata": {},
   "outputs": [
    {
     "name": "stdout",
     "output_type": "stream",
     "text": [
      "Numeros generados: \n",
      "[2, 8, 6, 4, 1, 2, 4, 8, 2, 4]\n"
     ]
    },
    {
     "data": {
      "image/png": "[encoded data removed]",
      "text/plain": [
       "<Figure size 432x288 with 1 Axes>"
      ]
     },
     "metadata": {
      "needs_background": "light"
     },
     "output_type": "display_data"
    }
   ],
   "source": [
    "def genVAD(u, x, px):    \n",
    "    dAcum = distAcum (x,px)\n",
    "    rList = u\n",
    "    xList = []\n",
    "    for i in rList:\n",
    "        for j in range(len(dAcum)):\n",
    "            if(i <= dAcum[j]):\n",
    "                xList.append(x[j])\n",
    "                break\n",
    "    print (\"Numeros generados: \")\n",
    "    print (xList)\n",
    "    plt.hist(xList)\n",
    "      \n",
    "def distAcum(x, px):    \n",
    "    Px = []\n",
    "    suma = 0\n",
    "    for i in range(len(x)):\n",
    "        Px.append(suma + px[i])\n",
    "        suma = suma + px[i]\n",
    "    return Px\n",
    "\n",
    "def dados():\n",
    "    x = [1,2,3,4,5,6,7,8]\n",
    "    px = [0.11,0.3,0.12,0.2,0.05,0.07,0.05,0.10]\n",
    "    u = [0.1573,0.9454,0.8211,0.6996,0.0318,0.1708,0.6865,0.9102,0.2579,0.6344]\n",
    "    genVAD(u,x,px)\n",
    "    \n",
    "dados()"
   ]
  },
  {
   "cell_type": "markdown",
   "metadata": {},
   "source": [
    "**4)** Responda las siguientes preguntas:\n",
    "\n",
    "**(a)** Nombre dos distribuciones de probabilidad discreta."
   ]
  },
  {
   "cell_type": "code",
   "execution_count": null,
   "metadata": {},
   "outputs": [],
   "source": [
    "Poisson y Binomial"
   ]
  },
  {
   "cell_type": "markdown",
   "metadata": {},
   "source": [
    "**(b)** ¿Cuáles son los parámetros de la distribución de probabilidad normal?"
   ]
  },
  {
   "cell_type": "code",
   "execution_count": null,
   "metadata": {},
   "outputs": [],
   "source": [
    "Media y desviación estándar"
   ]
  },
  {
   "cell_type": "markdown",
   "metadata": {},
   "source": [
    "**(c)** ¿Cuál es el valor esperado de una distribución de probabilidad uniforme continua que esta definida en el intervalo de 2 a 12? "
   ]
  },
  {
   "cell_type": "code",
   "execution_count": 133,
   "metadata": {},
   "outputs": [
    {
     "data": {
      "image/png": "[encoded data removed]",
      "text/latex": [
       "$$7$$"
      ],
      "text/plain": [
       "7"
      ]
     },
     "execution_count": 133,
     "metadata": {},
     "output_type": "execute_result"
    }
   ],
   "source": [
    "7"
   ]
  },
  {
   "cell_type": "markdown",
   "metadata": {},
   "source": [
    "**5)** Utilizando el metodo de Monte Carlo, y tomando como base el ejemplo del calculo del área del circulo visto en clase y del taller 3 con sus propios generadores congruenciales:\n",
    "\n",
    "**(a)** Implemente el metodo de Monte Carlo para calcular y mostrar el área estimada de una elipse con un semieje mayor $a = 13$ y semieje menor $b = 6$ centrado en el origen $x, y = (0, 0)$ generando 1000 coordenadas aleatorias $(X, Y)$ en el rango de\n",
    "$X = [−a, a]$ y $Y = [−b, b]$.<br>\n",
    "**(b)** Calcule el area real de la elipse.<br>\n",
    "**(c)** Calcule la diferencia entre el área real y el área estimada de la elipse con el método de Monte Carlo<br>\n",
    "**(d)** Grafique los puntos aleatorios generados que caen dentro de la elipse en rojo y los que caen fuera de la elipse en azul."
   ]
  },
  {
   "cell_type": "code",
   "execution_count": 8,
   "metadata": {},
   "outputs": [
    {
     "name": "stdout",
     "output_type": "stream",
     "text": [
      "a) Area estimada elipse con MC:  240.552\n",
      "\n",
      "b) Calcule el área real de la elipse. 245.04422698000388\n",
      "\n",
      "\n",
      "c) Diferencia\n",
      " 4.492226980003892\n",
      "Area de la elipse\n",
      "\n",
      "\n",
      "d) Grafica \n"
     ]
    },
    {
     "data": {
      "image/png": "[encoded data removed]",
      "text/plain": [
       "<Figure size 432x288 with 1 Axes>"
      ]
     },
     "metadata": {
      "needs_background": "light"
     },
     "output_type": "display_data"
    }
   ],
   "source": [
    "%matplotlib inline\n",
    "import matplotlib.pyplot as plt\n",
    "import numpy as np\n",
    "\n",
    "a=13\n",
    "b=6\n",
    "N = 1000\n",
    "nElipse = 0\n",
    "nNElipse = 0\n",
    "X=[]\n",
    "Y=[]\n",
    "Xr=[]\n",
    "Yr=[]\n",
    "Xb=[]\n",
    "Yb=[]\n",
    "for i in range(1, N+1):\n",
    "    Ux = np.random.rand()\n",
    "    Uy = np.random.rand()\n",
    "    X.append(2*a*Ux-a)\n",
    "    Y.append(2*b*Uy-b)\n",
    "    I = (X[i-1]**2)/(a**2) + (Y[i-1]**2)/(b**2)\n",
    "    if I <= 1:\n",
    "        nElipse = nElipse + 1\n",
    "        Xr.append(X[i-1])\n",
    "        Yr.append(Y[i-1])\n",
    "    else:\n",
    "        nNElipse = nNElipse +1\n",
    "        Xb.append(X[i-1])\n",
    "        Yb.append(Y[i-1])\n",
    "\n",
    "AreaElipseMonteCarlo = (float(nElipse)/ float(N))*((4*b*a))\n",
    "print(\"a) Area estimada elipse con MC: \", AreaElipseMonteCarlo)\n",
    "print()\n",
    "\n",
    "AreaReal = np.pi*a*b\n",
    "print(\"b) Calcule el área real de la elipse.\",AreaReal)\n",
    "\n",
    "x = np.arange(-float(a),float(a),float(a)/100.0)\n",
    "y1=[]\n",
    "y2=[]\n",
    "for i in x:\n",
    "    n = np.sqrt((1-((i**2)/a**2))*b**2)\n",
    "    y1.append(n)\n",
    "    y2.append(-n)\n",
    "    \n",
    "\n",
    "plt.ylim(-(b), b)\n",
    "plt.xlim(-(a), a)\n",
    "plt.grid(True) \n",
    "\n",
    "plt.plot(Xr, Yr, color=\"red\",linewidth=0, marker='x', lw=1 )\n",
    "plt.plot(Xb, Yb, color=\"blue\",linewidth=0, marker='x', lw=1 )\n",
    "titulo = \"Area de la elipse\"\n",
    "print()\n",
    "print(\"\\nc) Diferencia\\n\",np.abs(AreaReal-AreaElipseMonteCarlo))\n",
    "print(titulo)\n",
    "print()\n",
    "print(\"\\nd) Grafica \")\n",
    "plt.title(titulo)\n",
    "plt.show()"
   ]
  },
  {
   "cell_type": "code",
   "execution_count": null,
   "metadata": {},
   "outputs": [],
   "source": []
  }
 ],
 "metadata": {
  "kernelspec": {
   "display_name": "Python 3",
   "language": "python",
   "name": "python3"
  },
  "language_info": {
   "codemirror_mode": {
    "name": "ipython",
    "version": 3
   },
   "file_extension": ".py",
   "mimetype": "text/x-python",
   "name": "python",
   "nbconvert_exporter": "python",
   "pygments_lexer": "ipython3",
   "version": "3.7.3"
  }
 },
 "nbformat": 4,
 "nbformat_minor": 2
}
