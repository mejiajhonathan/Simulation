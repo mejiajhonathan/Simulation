{
 "cells": [
  {
   "cell_type": "markdown",
   "metadata": {},
   "source": [
    "# Comparar Simulación de Monte Carlo y método numérico del Trapecio"
   ]
  },
  {
   "cell_type": "markdown",
   "metadata": {},
   "source": [
    "Jhonathan Mejia-160003525\n",
    "### Taller 1:\n",
    "1. Implementar la solución de Montecarlo\n",
    "2. Implementar el método numérico del trapecio para integración numérica\n",
    "3. Para calcular y comparar el resultado de la integral\n",
    "4. Averiguar cómo hallar el valor de la integral de forma analítica (Opcional) \n",
    "$$\\int_0^2 e^{-x^2} \\,dx$$"
   ]
  },
  {
   "cell_type": "markdown",
   "metadata": {},
   "source": [
    "# Método de MonteCarlo"
   ]
  },
  {
   "cell_type": "code",
   "execution_count": 1,
   "metadata": {},
   "outputs": [],
   "source": [
    "import random\n",
    "import math\n",
    "\n",
    "def monteCarlo():\n",
    "    #Retorna el valor de la integral mediante el método de MonteCarlo.\n",
    "    suma=0\n",
    "    n=0\n",
    "    x=0\n",
    "    y=0\n",
    "    while n<100000:\n",
    "        x=2*random.random()\n",
    "        y=2*math.exp((-x*x))\n",
    "        suma=suma+y\n",
    "        n=n+1            \n",
    "    return str(suma/n)\n"
   ]
  },
  {
   "cell_type": "markdown",
   "metadata": {},
   "source": [
    "# Método del Trapecio"
   ]
  },
  {
   "cell_type": "code",
   "execution_count": 2,
   "metadata": {},
   "outputs": [],
   "source": [
    "def trapecio():\n",
    "    #Retorna el valor de la integral mediante el método deL Trapecio.\n",
    "    paso=0.000001\n",
    "    x1=0\n",
    "    x2=paso\n",
    "    suma=0\n",
    "    x=0\n",
    "    while x2<=2:\n",
    "        funcion=math.exp((-x2*x2))\n",
    "        tria=(math.exp(-x1*x1)-funcion)*paso/2\n",
    "        suma=suma+tria+funcion*paso\n",
    "        x1=x2\n",
    "        x2=x2+paso  \n",
    "    return str(suma) "
   ]
  },
  {
   "cell_type": "markdown",
   "metadata": {},
   "source": [
    "# Resultados de la integral"
   ]
  },
  {
   "cell_type": "code",
   "execution_count": 3,
   "metadata": {},
   "outputs": [
    {
     "name": "stdout",
     "output_type": "stream",
     "text": [
      "El resultado de la integral por el método de MonteCarlo es: 0.8834768896735378\n",
      "El resultado de la integral por el método del Trapecio es: 0.8820813907697104\n"
     ]
    }
   ],
   "source": [
    "print(\"El resultado de la integral por el método de MonteCarlo es: \"+monteCarlo())\n",
    "print(\"El resultado de la integral por el método del Trapecio es: \"+trapecio())\n"
   ]
  },
  {
   "cell_type": "markdown",
   "metadata": {},
   "source": [
    "# Conclusiones generales\n",
    "-Puede haber inexactitud en los resultados cuando no se evaluan los suficientes puntos a través de toda la función.\n",
    "\n",
    "-Un número muy elevado en las interaciones (modificando el valor de $n$ en el *método de MonteCarlo* o de $paso$ en el *método del Trapecio*) puede hacer muy lenta la operación.\n",
    "\n",
    "-El método del trapecio puede llegar a ser mucho más exacto con su resultado, que el método de Montecarlo, dado que en el método de MonteCarlo el resultado varía de acuerdo a los números aleatorios en los que se evalúa la función."
   ]
  },
  {
   "cell_type": "code",
   "execution_count": null,
   "metadata": {},
   "outputs": [],
   "source": []
  }
 ],
 "metadata": {
  "kernelspec": {
   "display_name": "Python 3",
   "language": "python",
   "name": "python3"
  },
  "language_info": {
   "codemirror_mode": {
    "name": "ipython",
    "version": 3
   },
   "file_extension": ".py",
   "mimetype": "text/x-python",
   "name": "python",
   "nbconvert_exporter": "python",
   "pygments_lexer": "ipython3",
   "version": "3.7.3"
  }
 },
 "nbformat": 4,
 "nbformat_minor": 2
}
